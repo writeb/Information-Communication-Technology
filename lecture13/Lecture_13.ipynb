{
 "cells": [
  {
   "cell_type": "markdown",
   "metadata": {},
   "source": [
    "# A little bit of OPENAI ChatGPT if available"
   ]
  },
  {
   "cell_type": "markdown",
   "metadata": {},
   "source": [
    "# A little bit of Linear regression"
   ]
  },
  {
   "cell_type": "code",
   "execution_count": null,
   "metadata": {},
   "outputs": [],
   "source": [
    "# some import\n",
    "import sklearn.linear_model as skmod\n",
    "import matplotlib.pyplot as plt\n",
    "import numpy as np\n",
    "import pandas as pd"
   ]
  },
  {
   "cell_type": "code",
   "execution_count": null,
   "metadata": {},
   "outputs": [],
   "source": [
    "# The real student data (limit to pass is 9 misses)\n",
    "df = pd.read_parquet(r\"D:\\KBTU\\2022-2023\\Python Course\\Course\\Lecture\\Lecture_13\\result_exam_absence.parquet\")\n",
    "print(df.describe())"
   ]
  },
  {
   "cell_type": "code",
   "execution_count": null,
   "metadata": {
    "scrolled": true
   },
   "outputs": [],
   "source": [
    "#draw the data\n",
    "df.plot.scatter(x = 'MISSES', y = 'FINAL_SCORE_PART_1')"
   ]
  },
  {
   "cell_type": "code",
   "execution_count": null,
   "metadata": {
    "scrolled": true
   },
   "outputs": [],
   "source": [
    "#check the student in top right\n",
    "print(df[(df.MISSES >= 6) & (df.FINAL_SCORE_PART_1 <= 30) ])"
   ]
  },
  {
   "cell_type": "code",
   "execution_count": null,
   "metadata": {},
   "outputs": [],
   "source": [
    "#Linear regression on my data\n",
    "model = skmod.LinearRegression().fit(df_total.loc[:, ['MISSES']], df_total.FINAL_SCORE_PART_1)\n",
    "plt.scatter(df_total.MISSES, df_total.FINAL_SCORE_PART_1)\n",
    "plt.plot([0,13], model.predict([[0],[13]]))\n",
    "print(model.score(df_total.loc[:, ['MISSES']], df_total.FINAL_SCORE_PART_1))"
   ]
  },
  {
   "cell_type": "markdown",
   "metadata": {},
   "source": [
    "#  Schematic"
   ]
  },
  {
   "cell_type": "code",
   "execution_count": null,
   "metadata": {},
   "outputs": [],
   "source": [
    "# a classical linear regression\n",
    "# A neuronal network without activation function\n",
    "# A neuronal network with activation function\n",
    "# two types:\n",
    "#     - Sigmoid\n",
    "#     - Relu"
   ]
  },
  {
   "cell_type": "markdown",
   "metadata": {},
   "source": [
    "# Python and scikit learn"
   ]
  },
  {
   "cell_type": "code",
   "execution_count": null,
   "metadata": {},
   "outputs": [],
   "source": [
    "#Import\n",
    "import pandas as pd\n",
    "import numpy as np\n",
    "import sklearn.neural_network as skNN\n",
    "import matplotlib.pyplot as plt\n",
    "import sklearn.model_selection as sksel\n",
    "import sklearn.preprocessing as skprepro"
   ]
  },
  {
   "cell_type": "code",
   "execution_count": null,
   "metadata": {
    "scrolled": false
   },
   "outputs": [],
   "source": [
    "#Open csv Data of wine quality\n",
    "df = pd.read_csv(r\"D:\\KBTU\\2022-2023\\Python Course\\Course\\Lecture\\Lecture_13\\winequality-red.csv\")\n",
    "print(df)\n"
   ]
  },
  {
   "cell_type": "code",
   "execution_count": null,
   "metadata": {},
   "outputs": [],
   "source": [
    "print(df['quality'].describe())"
   ]
  },
  {
   "cell_type": "code",
   "execution_count": null,
   "metadata": {},
   "outputs": [],
   "source": [
    "#Create features and labels, choose as you want\n",
    "x1 = df['density'].to_numpy().reshape(-1,1)\n",
    "x2 = df['residual sugar'].to_numpy().reshape(-1,1)\n",
    "y = df['alcohol'].to_numpy().reshape(-1,1)\n"
   ]
  },
  {
   "cell_type": "code",
   "execution_count": null,
   "metadata": {},
   "outputs": [],
   "source": [
    "#Train and test and standardized (mandatory)\n",
    "x_train, x_test, y_train, y_test = sksel.train_test_split(np.hstack([x1,x2]), y)\n",
    "scaler_x = skprepro.StandardScaler().fit(x_train)\n",
    "x_train_std = scaler_x.transform(x_train)\n",
    "scaler_y = skprepro.StandardScaler().fit(y_train)\n",
    "y_train_std = scaler_y.transform(y_train)\n"
   ]
  },
  {
   "cell_type": "code",
   "execution_count": null,
   "metadata": {},
   "outputs": [],
   "source": [
    "#Create your neuronal network (MLPRegressor with hidden_layer_sizes and activation)\n",
    "# you can also increase the number of max_iter\n",
    "#use the trained scaled data\n",
    "\n",
    "neuro_model = skNN.MLPRegressor(hidden_layer_sizes=(3,5), activation='relu', max_iter=500)\n",
    "neuro_model = neuro_model.fit(x_train_std, y_train_std.ravel())\n"
   ]
  },
  {
   "cell_type": "code",
   "execution_count": null,
   "metadata": {},
   "outputs": [],
   "source": [
    "#the score of train and test data\n",
    "#remember to scale the testing data\n",
    "print(neuro_model.score(x_train_std, y_train_std.ravel()))\n",
    "print(neuro_model.score(scaler_x.transform(x_test), scaler_y.transform(y_test).ravel()))"
   ]
  },
  {
   "cell_type": "code",
   "execution_count": null,
   "metadata": {
    "scrolled": false
   },
   "outputs": [],
   "source": [
    "#plot the data with label as c and cmap Reds\n",
    "plt.scatter(x1, x2, c = y, cmap = 'Reds')"
   ]
  },
  {
   "cell_type": "code",
   "execution_count": null,
   "metadata": {},
   "outputs": [],
   "source": [
    "#YOUR TURN\n",
    "#With the csv file, and my code, \n",
    "#find two features which are closely linked to the acohol\n",
    "#(score on training and testing bigger than 0.4)\n"
   ]
  },
  {
   "cell_type": "markdown",
   "metadata": {},
   "source": [
    "# The same with Logistic"
   ]
  },
  {
   "cell_type": "code",
   "execution_count": null,
   "metadata": {},
   "outputs": [],
   "source": [
    "#Create features and labels, choose as you want\n",
    "x1 = df['density'].to_numpy().reshape(-1,1)\n",
    "x2 = df['pH'].to_numpy().reshape(-1,1)\n",
    "y = df['alcohol'].to_numpy().reshape(-1,1)"
   ]
  },
  {
   "cell_type": "code",
   "execution_count": null,
   "metadata": {},
   "outputs": [],
   "source": [
    "# Modify your label to get logistic information ([0 if i < 10 else 1 for i in y])\n",
    "y = np.array([0 if i < 6 else 1 for i in y]).reshape(-1,1)\n",
    "print(y[:10])"
   ]
  },
  {
   "cell_type": "code",
   "execution_count": null,
   "metadata": {},
   "outputs": [],
   "source": [
    "#Train and test and standardized (mandatory)\n",
    "x_train, x_test, y_train, y_test = sksel.train_test_split(np.hstack([x1,x2]), y)\n",
    "scaler_x = skprepro.StandardScaler().fit(x_train)\n",
    "x_train_std = scaler_x.transform(x_train)\n",
    "# scaler_y = skprepro.StandardScaler().fit(y_train)\n",
    "# y_train_std = scaler_y.transform(y_train)\n"
   ]
  },
  {
   "cell_type": "code",
   "execution_count": null,
   "metadata": {},
   "outputs": [],
   "source": [
    "#Create your neuronal network (MLPClassifier with hidden_layer_sizes and activation)\n",
    "# you can also increase the number of max_iter\n",
    "#use the trained scaled data\n",
    "\n",
    "neuro_model = skNN.MLPClassifier(hidden_layer_sizes=(2,2), activation='relu', max_iter=500)\n",
    "neuro_model = neuro_model.fit(x_train_std, y_train.ravel())"
   ]
  },
  {
   "cell_type": "code",
   "execution_count": null,
   "metadata": {},
   "outputs": [],
   "source": [
    "#the score of train and test data\n",
    "#remember to scale the testing data\n",
    "print(neuro_model.score(x_train_std, y_train.ravel()))\n",
    "print(neuro_model.score(scaler_x.transform(x_test), y_test.ravel()))"
   ]
  },
  {
   "cell_type": "code",
   "execution_count": null,
   "metadata": {},
   "outputs": [],
   "source": [
    "#plot the data with label as c and cmap viridis\n",
    "# evaluate on a regular grid\n",
    "x_all = np.linspace(-4,4, 400)\n",
    "y_all = np.linspace(-4, 4, 400)\n",
    "X_all_grid, Y_all_grid = np.meshgrid(x_all, y_all)\n",
    "predict_all = neuro_model.predict(np.hstack([X_all_grid.reshape(-1,1), Y_all_grid.reshape(-1,1)]))\n",
    "# Plot the result as an image\n",
    "plt.imshow(predict_all.reshape(X_all_grid.shape),\n",
    "           origin='lower', aspect='auto',\n",
    "           extent=[-4, 4, -4, 4],\n",
    "           cmap='PiYG')\n",
    "\n",
    "plt.scatter(x_train_std[:, 0], x_train_std[:, 1], c = y_train, cmap = 'viridis')\n",
    "plt.colorbar()\n",
    "plt.ylim([-4,4])\n",
    "plt.xlim([-4,4])\n",
    "plt.xlabel('density')\n",
    "plt.ylabel('alcohol')"
   ]
  },
  {
   "cell_type": "code",
   "execution_count": null,
   "metadata": {},
   "outputs": [],
   "source": []
  },
  {
   "cell_type": "code",
   "execution_count": null,
   "metadata": {},
   "outputs": [],
   "source": []
  },
  {
   "cell_type": "code",
   "execution_count": null,
   "metadata": {},
   "outputs": [],
   "source": []
  },
  {
   "cell_type": "code",
   "execution_count": null,
   "metadata": {},
   "outputs": [],
   "source": []
  }
 ],
 "metadata": {
  "kernelspec": {
   "display_name": "Python 3",
   "language": "python",
   "name": "python3"
  },
  "language_info": {
   "codemirror_mode": {
    "name": "ipython",
    "version": 3
   },
   "file_extension": ".py",
   "mimetype": "text/x-python",
   "name": "python",
   "nbconvert_exporter": "python",
   "pygments_lexer": "ipython3",
   "version": "3.8.3"
  }
 },
 "nbformat": 4,
 "nbformat_minor": 4
}
