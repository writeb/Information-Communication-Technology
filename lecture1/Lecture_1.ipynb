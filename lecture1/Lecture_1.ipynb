{
 "cells": [
  {
   "cell_type": "markdown",
   "metadata": {},
   "source": [
    "# Work with .csv file"
   ]
  },
  {
   "cell_type": "code",
   "execution_count": null,
   "metadata": {},
   "outputs": [],
   "source": [
    "#import package csv to read csv files\n",
    "import csv"
   ]
  },
  {
   "cell_type": "code",
   "execution_count": null,
   "metadata": {},
   "outputs": [],
   "source": [
    "#Open the file in python with the path of the file in your computer\n",
    "file = open(r\"/Users/rauan/Desktop/ICT/lecture1/Apple_price_csv.csv\", 'r')"
   ]
  },
  {
   "cell_type": "code",
   "execution_count": null,
   "metadata": {},
   "outputs": [],
   "source": [
    "#open the file with reader function\n",
    "csv_file = csv.reader(file)"
   ]
  },
  {
   "cell_type": "code",
   "execution_count": null,
   "metadata": {},
   "outputs": [],
   "source": [
    "#print all rows\n",
    "for row in csv_file:\n",
    "    print(row)"
   ]
  },
  {
   "cell_type": "code",
   "execution_count": null,
   "metadata": {},
   "outputs": [],
   "source": [
    "#read the file as a dict\n",
    "csv_file = csv.DictReader(file)"
   ]
  },
  {
   "cell_type": "code",
   "execution_count": null,
   "metadata": {},
   "outputs": [],
   "source": [
    "#print all rows\n",
    "for row in csv_file:\n",
    "    print(row)"
   ]
  },
  {
   "cell_type": "code",
   "execution_count": null,
   "metadata": {},
   "outputs": [],
   "source": [
    "#Advanced reading\n",
    "with open(r\"/Users/rauan/Desktop/ICT/lecture1/Apple_price_csv.csv\", 'r') as csvfile:\n",
    "    spamreader = csv.reader(csvfile, delimiter=',')\n",
    "    for row in spamreader:\n",
    "        print(', '.join(row))"
   ]
  },
  {
   "cell_type": "code",
   "execution_count": null,
   "metadata": {},
   "outputs": [],
   "source": [
    "#Writing is also possible\n",
    "with open(r\"/Users/rauan/Desktop/ICT/lecture1/Test_csv_writer.csv\", 'a', newline='') as csvfile:\n",
    "    spamwriter = csv.writer(csvfile, delimiter=';')\n",
    "    spamwriter.writerow(['1', '2', '3'])\n",
    "    spamwriter.writerow(['10', '2', '3'])\n",
    "    spamwriter.writerow(['11', '2', '3'])"
   ]
  },
  {
   "cell_type": "code",
   "execution_count": 6,
   "metadata": {},
   "outputs": [
    {
     "name": "stdout",
     "output_type": "stream",
     "text": [
      "77.57009345794393 %\n"
     ]
    }
   ],
   "source": [
    "#YOUR TURN\n",
    "#What is the percentage of student who knows python?\n",
    "#Open the file\n",
    "#do number of yes divide by number of answers\n",
    "#Print the result\n",
    "# file on teams in the channel Lecture_wednesday_11_13\n",
    "#time : 10 min => 12:05\n",
    "\n",
    "import csv\n",
    "\n",
    "number_of_yes = 0\n",
    "total_answers = 0\n",
    "\n",
    "with open(r\"/Users/rauan/Desktop/ICT/lecture1/Skills assessment_modified (1).csv\", 'r') as file:\n",
    "    csv_file = csv.reader(file)\n",
    "    for row in csv_file:\n",
    "        total_answers += 1\n",
    "        if row[1] == \"Yes\":\n",
    "            number_of_yes += 1\n",
    "            \n",
    "print(number_of_yes/total_answers *100, '%')"
   ]
  },
  {
   "cell_type": "markdown",
   "metadata": {},
   "source": [
    "# Work with .json file"
   ]
  },
  {
   "cell_type": "code",
   "execution_count": null,
   "metadata": {},
   "outputs": [],
   "source": [
    "#import json package\n",
    "import json"
   ]
  },
  {
   "cell_type": "code",
   "execution_count": null,
   "metadata": {},
   "outputs": [],
   "source": [
    "#Open Json file\n",
    "json_data = open(r\"D:\\KBTU\\2022-2023\\Python Course\\Course\\Lecture\\Lecture_1\\example_json_data.json\").read()"
   ]
  },
  {
   "cell_type": "code",
   "execution_count": null,
   "metadata": {},
   "outputs": [],
   "source": [
    "#Load json data into python\n",
    "data = json.loads(json_data)"
   ]
  },
  {
   "cell_type": "code",
   "execution_count": null,
   "metadata": {},
   "outputs": [],
   "source": [
    "#Print the data (dictionnary)\n",
    "for item in data:\n",
    "    print(item)"
   ]
  },
  {
   "cell_type": "markdown",
   "metadata": {},
   "source": [
    "# Work with XML files"
   ]
  },
  {
   "cell_type": "code",
   "execution_count": null,
   "metadata": {},
   "outputs": [],
   "source": [
    "#Import package\n",
    "from xml.etree import ElementTree as ET"
   ]
  },
  {
   "cell_type": "code",
   "execution_count": null,
   "metadata": {},
   "outputs": [],
   "source": [
    "#Open the file\n",
    "tree = ET.parse(r\"D:\\KBTU\\2022-2023\\Python Course\\Course\\Lecture\\Lecture_1\\Example_xml_data.xml\")"
   ]
  },
  {
   "cell_type": "code",
   "execution_count": null,
   "metadata": {},
   "outputs": [],
   "source": [
    "#Get the root of your file\n",
    "root = tree.getroot()\n",
    "print(root)"
   ]
  },
  {
   "cell_type": "code",
   "execution_count": null,
   "metadata": {},
   "outputs": [],
   "source": [
    "#Browse all items\n",
    "for item in root:\n",
    "    print(item)"
   ]
  },
  {
   "cell_type": "code",
   "execution_count": null,
   "metadata": {
    "scrolled": true
   },
   "outputs": [],
   "source": [
    "#Browse categories in each item and print its value\n",
    "item = root[0]\n",
    "for cat in item:\n",
    "    print(cat)\n",
    "    print(cat.text)"
   ]
  },
  {
   "cell_type": "code",
   "execution_count": null,
   "metadata": {},
   "outputs": [],
   "source": [
    "#Modify XML file with set function\n",
    "price_of_ginger = root[4][4]\n",
    "print(price_of_ginger.text)\n",
    "price_of_ginger.text = \"$10.00\"\n",
    "\n",
    "#save file\n",
    "tree.write(r\"D:\\KBTU\\2022-2023\\Python Course\\Course\\Lecture\\Lecture_1\\Example_xml_data_modified.xml\")"
   ]
  },
  {
   "cell_type": "markdown",
   "metadata": {},
   "source": [
    "# Work with excel files"
   ]
  },
  {
   "cell_type": "markdown",
   "metadata": {},
   "source": [
    "## Read excel files"
   ]
  },
  {
   "cell_type": "code",
   "execution_count": null,
   "metadata": {},
   "outputs": [],
   "source": [
    "#Import xlrd package\n",
    "import xlrd"
   ]
  },
  {
   "cell_type": "code",
   "execution_count": null,
   "metadata": {},
   "outputs": [],
   "source": [
    "#Open a workbook\n",
    "book = xlrd.open_workbook(r\"D:\\KBTU\\2022-2023\\Python Course\\Course\\Lecture\\Lecture_1\\Price_tesla_and_microsoft.xlsx\")"
   ]
  },
  {
   "cell_type": "code",
   "execution_count": null,
   "metadata": {},
   "outputs": [],
   "source": [
    "#List a tabs\n",
    "for sheet in book.sheets():\n",
    "    print(sheet.name)"
   ]
  },
  {
   "cell_type": "code",
   "execution_count": null,
   "metadata": {},
   "outputs": [],
   "source": [
    "#Choose the right tab\n",
    "sheet = book.sheet_by_name('Tesla_price')\n",
    "#Or just to get the first tab\n",
    "sheet = book.sheet_by_index(0)\n",
    "print(sheet)"
   ]
  },
  {
   "cell_type": "code",
   "execution_count": null,
   "metadata": {},
   "outputs": [],
   "source": [
    "#iterate on rows\n",
    "for i in range(sheet.nrows):\n",
    "    print(sheet.row_values(i))\n",
    "    \n",
    "print(sheet.col_values(0))"
   ]
  },
  {
   "cell_type": "code",
   "execution_count": null,
   "metadata": {},
   "outputs": [],
   "source": [
    "#Print on cell in particular\n",
    "print(sheet.cell_value(rowx=3, colx = 3))"
   ]
  },
  {
   "cell_type": "markdown",
   "metadata": {},
   "source": [
    "## Write excel files"
   ]
  },
  {
   "cell_type": "code",
   "execution_count": null,
   "metadata": {},
   "outputs": [],
   "source": [
    "#import the package\n",
    "import xlwt"
   ]
  },
  {
   "cell_type": "code",
   "execution_count": null,
   "metadata": {},
   "outputs": [],
   "source": [
    "#Create workbook\n",
    "book = xlwt.Workbook(r\"D:\\KBTU\\2022-2023\\Python Course\\Course\\Lecture\\Lecture_1\\Price_tesla_and_microsoft.xlsx\")"
   ]
  },
  {
   "cell_type": "code",
   "execution_count": null,
   "metadata": {},
   "outputs": [],
   "source": [
    "#Add a sheet\n",
    "ws = book.add_sheet('A Test Sheet')\n",
    "ws = book.add_sheet('A Test Sheet1')\n",
    "ws = book.add_sheet('A Test Sheet2')"
   ]
  },
  {
   "cell_type": "code",
   "execution_count": null,
   "metadata": {},
   "outputs": [],
   "source": [
    "#Write the wanted information\n",
    "for i in range(5,100):\n",
    "    ws.write(i, 0, 1)\n",
    "    ws.write(i, 1, 2)\n",
    "    \n",
    "ws.write(5, 2, xlwt.Formula(\"A6+B6\"))"
   ]
  },
  {
   "cell_type": "code",
   "execution_count": null,
   "metadata": {},
   "outputs": [],
   "source": [
    "#Save your file under xls\n",
    "book.save(r\"D:\\KBTU\\2022-2023\\Python Course\\Course\\Lecture\\Lecture_1\\Example_excel_write.xls\")"
   ]
  },
  {
   "cell_type": "code",
   "execution_count": null,
   "metadata": {},
   "outputs": [],
   "source": [
    "#YOUR TURN\n",
    "#Write first columns of the csv file into a excel file\n",
    "#Open csv file => get the first column => create excel file => write inside the first column => Save\n",
    "#Time : 10 min => 12:31\n",
    "#Using .xls is easier\n"
   ]
  },
  {
   "cell_type": "code",
   "execution_count": null,
   "metadata": {},
   "outputs": [],
   "source": [
    "import csv\n",
    "\n",
    "first_column = []\n",
    "with open(r\"D:\\KBTU\\2022-2023\\Python Course\\Course\\Lecture\\Lecture_1\\Skills assessment .csv\\Skills assessment_modified.csv\", 'r') as csvfile:\n",
    "    csv_read = csv.reader(csvfile)\n",
    "    for row in csv_read:\n",
    "        first_column.append(row[0])\n",
    "print(first_column)"
   ]
  },
  {
   "cell_type": "code",
   "execution_count": null,
   "metadata": {},
   "outputs": [],
   "source": [
    "import xlwt\n",
    "\n",
    "book = xlwt.Workbook(r\"D:\\KBTU\\2022-2023\\Python Course\\Course\\Lecture\\Lecture_1\\your_turn.xls\")\n",
    "ws = book.add_sheet('result')\n",
    "for i in range(0,len(first_column)):\n",
    "    ws.write(i, 0, first_column[i])\n",
    "book.save(r\"D:\\KBTU\\2022-2023\\Python Course\\Course\\Lecture\\Lecture_1\\your_turn.xls\")"
   ]
  },
  {
   "cell_type": "markdown",
   "metadata": {},
   "source": [
    "# Transform the Data"
   ]
  },
  {
   "cell_type": "code",
   "execution_count": null,
   "metadata": {},
   "outputs": [],
   "source": [
    "#Load data from your files\n",
    "import csv\n",
    "with open(r\"D:\\KBTU\\2022-2023\\Python Course\\Course\\Lecture\\Lecture_1\\Apple_price_csv.csv\", 'r') as f:\n",
    "    csv_file = csv.reader(f)\n",
    "    for row in csv_file:\n",
    "        print(row)"
   ]
  },
  {
   "cell_type": "code",
   "execution_count": null,
   "metadata": {},
   "outputs": [],
   "source": [
    "#Use your data with lists\n",
    "date = []\n",
    "open_list = []\n",
    "high = []\n",
    "with open(r\"D:\\KBTU\\2022-2023\\Python Course\\Course\\Lecture\\Lecture_1\\Apple_price_csv.csv\", 'r') as f:\n",
    "    csv_file = csv.reader(f)\n",
    "    for row in csv_file:\n",
    "        date.append(row[0])\n",
    "        open_list.append(row[1])\n",
    "        high.append(row[2])\n",
    "print(date[0:10])\n",
    "print(open_list[0:10])"
   ]
  },
  {
   "cell_type": "code",
   "execution_count": null,
   "metadata": {},
   "outputs": [],
   "source": [
    "#use Dicitonary\n",
    "new_dict = {date[0] : date[1:], open_list[0]: open_list[1:], \"High\": high[1:]}\n",
    "print(new_dict)"
   ]
  },
  {
   "cell_type": "code",
   "execution_count": null,
   "metadata": {},
   "outputs": [],
   "source": [
    "#Use pprint to improve display\n",
    "import pprint\n",
    "pprint.pprint(new_dict)"
   ]
  },
  {
   "cell_type": "markdown",
   "metadata": {},
   "source": [
    "# Transform your data"
   ]
  },
  {
   "cell_type": "code",
   "execution_count": null,
   "metadata": {},
   "outputs": [],
   "source": [
    "#load your datas\n",
    "date = []\n",
    "open_list = []\n",
    "high = []\n",
    "with open(r\"D:\\KBTU\\2022-2023\\Python Course\\Course\\Lecture\\Lecture_1\\Apple_price_csv.csv\", 'r') as f:\n",
    "    csv_file = csv.reader(f)\n",
    "    for row in csv_file:\n",
    "        date.append(row[0])\n",
    "        open_list.append(row[1])\n",
    "        high.append(row[2])\n",
    "print(open_list[:10])"
   ]
  },
  {
   "cell_type": "code",
   "execution_count": null,
   "metadata": {},
   "outputs": [],
   "source": [
    "#Float function for string to number\n",
    "print(open_list[:10])\n",
    "open_list = [float(i) for i in open_list[1:]]\n",
    "# #OR :\n",
    "# open_list = []\n",
    "# for i in range(1,len(open_list)):\n",
    "#     open_list[i] = float(open_list[i])\n",
    "print(open_list[:10])"
   ]
  },
  {
   "cell_type": "code",
   "execution_count": null,
   "metadata": {},
   "outputs": [],
   "source": [
    "#Datetime package for string to time\n",
    "import datetime\n",
    "print(date[1])\n",
    "print(type(date[1]))\n",
    "date_transform = datetime.datetime.strptime(date[1], '%Y-%m-%d')\n",
    "print(date_transform)"
   ]
  },
  {
   "cell_type": "code",
   "execution_count": null,
   "metadata": {
    "scrolled": true
   },
   "outputs": [],
   "source": [
    "a = \"12-01-2020 02:05\"\n",
    "date_transform = datetime.datetime.strptime(a, '%m-%d-%Y %H:%M')\n",
    "print(date_transform)"
   ]
  },
  {
   "cell_type": "code",
   "execution_count": null,
   "metadata": {},
   "outputs": [],
   "source": [
    "#do that for all list\n",
    "date_modified = [datetime.datetime.strptime(i, '%Y-%m-%d') for i in date[1:]]\n",
    "print(date_modified)"
   ]
  },
  {
   "cell_type": "markdown",
   "metadata": {},
   "source": [
    "# PANDAS"
   ]
  },
  {
   "cell_type": "markdown",
   "metadata": {},
   "source": [
    "## Series"
   ]
  },
  {
   "cell_type": "code",
   "execution_count": null,
   "metadata": {},
   "outputs": [],
   "source": [
    "#import package\n",
    "import pandas as pd"
   ]
  },
  {
   "cell_type": "code",
   "execution_count": null,
   "metadata": {},
   "outputs": [],
   "source": [
    "#Get the value of a column\n",
    "values = ['Apple', 'Tesla', 'Microsoft']"
   ]
  },
  {
   "cell_type": "code",
   "execution_count": null,
   "metadata": {},
   "outputs": [],
   "source": [
    "#Create a serie\n",
    "my_serie = pd.Series(values)\n",
    "print(my_serie)"
   ]
  },
  {
   "cell_type": "code",
   "execution_count": null,
   "metadata": {},
   "outputs": [],
   "source": [
    "#without specification, index are the label\n",
    "print(my_serie[1])"
   ]
  },
  {
   "cell_type": "code",
   "execution_count": null,
   "metadata": {
    "scrolled": false
   },
   "outputs": [],
   "source": [
    "#But you can specify them\n",
    "my_serie = pd.Series(values, index = ['x', 'y', 'z'])\n",
    "# print(my_serie)\n",
    "print(my_serie['y'])"
   ]
  },
  {
   "cell_type": "code",
   "execution_count": null,
   "metadata": {
    "scrolled": true
   },
   "outputs": [],
   "source": [
    "#Label is automatic from a dictionary\n",
    "dictionary = {\"day1\" : 1000, \"day2\": 1100, \"day3\": 0}\n",
    "my_serie = pd.Series(dictionary)\n",
    "print(my_serie)"
   ]
  },
  {
   "cell_type": "code",
   "execution_count": null,
   "metadata": {
    "scrolled": false
   },
   "outputs": [],
   "source": [
    "#You can choose the one you want to keep\n",
    "my_serie = pd.Series(dictionary, index = [\"day1\", \"day2\"])\n",
    "print(my_serie)"
   ]
  },
  {
   "cell_type": "markdown",
   "metadata": {},
   "source": [
    "## Create DataFrame"
   ]
  },
  {
   "cell_type": "code",
   "execution_count": null,
   "metadata": {},
   "outputs": [],
   "source": [
    "#You can create a DataFrame from a Serie\n",
    "#Create an empty dataframe\n",
    "df = pd.DataFrame()\n",
    "print(df)"
   ]
  },
  {
   "cell_type": "code",
   "execution_count": null,
   "metadata": {
    "scrolled": false
   },
   "outputs": [],
   "source": [
    "#Add Series to the dataframe (index are kept)\n",
    "dictionary = {\"day1\" : 1000, \"day2\": 1100, \"day3\": 0}\n",
    "my_serie = pd.Series(dictionary)\n",
    "df[\"My numbers\"] = my_serie\n",
    "# print(df)\n",
    "dictionary = {\"day1\" : 3265, \"day2\": 6354, \"day3\": 6463}\n",
    "my_serie = pd.Series(dictionary)\n",
    "df[\"My numbers 2\"] = my_serie\n",
    "print(df)"
   ]
  },
  {
   "cell_type": "code",
   "execution_count": null,
   "metadata": {},
   "outputs": [],
   "source": [
    "#From a dictionary\n",
    "#Create the dataset you want to analyze\n",
    "mydataset = {\n",
    "  'cars': [\"BMW\", \"Volvo\", \"Ford\"],\n",
    "  'numbers': [3, 7, 2]\n",
    "}"
   ]
  },
  {
   "cell_type": "code",
   "execution_count": null,
   "metadata": {
    "scrolled": true
   },
   "outputs": [],
   "source": [
    "#Create a Dataframe from the dictionary \n",
    "my_df = pd.DataFrame(mydataset)\n",
    "print(my_df)"
   ]
  },
  {
   "cell_type": "code",
   "execution_count": null,
   "metadata": {},
   "outputs": [],
   "source": [
    "#You can locate a row (return a Serie)\n",
    "print(my_df.loc[1])"
   ]
  },
  {
   "cell_type": "code",
   "execution_count": null,
   "metadata": {},
   "outputs": [],
   "source": [
    "#Or several row (return a dataframe)\n",
    "print(my_df.loc[[1,2]])"
   ]
  },
  {
   "cell_type": "markdown",
   "metadata": {},
   "source": [
    "## Modify Indexes"
   ]
  },
  {
   "cell_type": "code",
   "execution_count": null,
   "metadata": {},
   "outputs": [],
   "source": [
    "#Create dataframe with indexes\n",
    "df = pd.DataFrame({\"Company\" : ['Apple', 'Tesla', 'Microsoft'], \"Creation\" : [1976, 2003, 1975]}, \n",
    "                  index = ['favorite', 'so-so', 'Maybe'])\n",
    "print(df)"
   ]
  },
  {
   "cell_type": "code",
   "execution_count": null,
   "metadata": {
    "scrolled": true
   },
   "outputs": [],
   "source": [
    "#Acces to a value with the index\n",
    "print(df.loc['favorite'])"
   ]
  },
  {
   "cell_type": "markdown",
   "metadata": {},
   "source": [
    "# DataFrame for data science"
   ]
  },
  {
   "cell_type": "code",
   "execution_count": null,
   "metadata": {},
   "outputs": [],
   "source": [
    "#Read directly csv file to dataframes\n",
    "df = pd.read_csv(r\"D:\\KBTU\\2022-2023\\Python Course\\Course\\Lecture\\Lecture_1\\Apple_price_csv.csv\")\n",
    "# print(df)\n",
    "df['2 times open'] = 2 * df['Open']\n",
    "print(df)"
   ]
  },
  {
   "cell_type": "code",
   "execution_count": null,
   "metadata": {},
   "outputs": [],
   "source": [
    "#Read directly csv file to dataframes\n",
    "df = pd.read_json(r\"D:\\KBTU\\2022-2023\\Python Course\\Course\\Lecture\\Lecture_1\\Example_json_data.json\")\n",
    "print(df)"
   ]
  },
  {
   "cell_type": "markdown",
   "metadata": {},
   "source": [
    "## Display a Dataframe"
   ]
  },
  {
   "cell_type": "code",
   "execution_count": null,
   "metadata": {},
   "outputs": [],
   "source": [
    "#print all dataframe in string\n",
    "print(df.to_string()) "
   ]
  },
  {
   "cell_type": "code",
   "execution_count": null,
   "metadata": {},
   "outputs": [],
   "source": [
    "#Print a portion of the dataframe\n",
    "print(df)"
   ]
  },
  {
   "cell_type": "code",
   "execution_count": null,
   "metadata": {
    "scrolled": true
   },
   "outputs": [],
   "source": [
    "#change the maximum of displayed rows\n",
    "print(pd.options.display.max_rows) \n",
    "# pd.options.display.max_rows = 2000\n",
    "# print(df)\n",
    "pd.options.display.max_rows = 4\n",
    "print(df)"
   ]
  }
 ],
 "metadata": {
  "kernelspec": {
   "display_name": "Python 3.10.4 64-bit",
   "language": "python",
   "name": "python3"
  },
  "language_info": {
   "codemirror_mode": {
    "name": "ipython",
    "version": 3
   },
   "file_extension": ".py",
   "mimetype": "text/x-python",
   "name": "python",
   "nbconvert_exporter": "python",
   "pygments_lexer": "ipython3",
   "version": "3.10.4"
  },
  "vscode": {
   "interpreter": {
    "hash": "aee8b7b246df8f9039afb4144a1f6fd8d2ca17a180786b69acc140d282b71a49"
   }
  }
 },
 "nbformat": 4,
 "nbformat_minor": 4
}
