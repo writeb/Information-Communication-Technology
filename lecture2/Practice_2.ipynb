{
 "cells": [
  {
   "cell_type": "code",
   "execution_count": null,
   "metadata": {},
   "outputs": [],
   "source": [
    "import csv\n",
    "import datetime\n",
    "lists = [[] for i in range(7)]\n",
    "\n",
    "with open(r\"D:\\KBTU\\2022-2023\\Python Course\\Course\\Pratices\\Practice_1\\CAT.csv\", 'r') as file:\n",
    "    csvfile = csv.reader(file)\n",
    "    csvfile.__next__()\n",
    "    for row in csvfile:\n",
    "        for i in range(0, len(row)): lists[i].append(row[i])\n",
    "            \n",
    "for i in range(1,7):\n",
    "    lists[i] = [float(j) for j in  lists[i] ]\n",
    "    \n",
    "lists[0] = [datetime.datetime.strptime(j, \"%Y-%m-%d\") for j in  lists[0] ]\n"
   ]
  },
  {
   "cell_type": "code",
   "execution_count": null,
   "metadata": {},
   "outputs": [],
   "source": [
    "print(len(lists))"
   ]
  },
  {
   "cell_type": "code",
   "execution_count": null,
   "metadata": {},
   "outputs": [],
   "source": [
    "print(lists[0][:10])\n",
    "print(lists[1][:10])"
   ]
  },
  {
   "cell_type": "code",
   "execution_count": null,
   "metadata": {},
   "outputs": [],
   "source": [
    "#Create dictionary with seven keys (one for each column of the .csv file) and the values from the previous lists \n",
    "\n",
    "dictio = {\n",
    "        'Date' : lists[0],\n",
    "        'Open' : lists[1],\n",
    "        'High' : lists[2],\n",
    "        'Low' : lists[3],\n",
    "        'Close' : lists[4],\n",
    "        'Adj close' : lists[5],\n",
    "        'Volume' : lists[6],\n",
    "         }\n",
    "\n",
    "print(dictio)"
   ]
  },
  {
   "cell_type": "code",
   "execution_count": null,
   "metadata": {},
   "outputs": [],
   "source": [
    "#Install pandas \n",
    "#Create a dataframe from the previous dictionary \n",
    "\n",
    "import pandas as pd\n",
    "\n",
    "df = pd.DataFrame(dictio)\n",
    "print(df)"
   ]
  },
  {
   "cell_type": "code",
   "execution_count": null,
   "metadata": {},
   "outputs": [],
   "source": [
    "#Change the names of the columns of your dataframe \n",
    "\n",
    "# print(df.columns)\n",
    "df.columns = ['Date', 'Open_price', 'High_price', 'Low_price', 'Close_price', 'Adj close', 'Volume']\n",
    "print(df)"
   ]
  },
  {
   "cell_type": "code",
   "execution_count": null,
   "metadata": {},
   "outputs": [],
   "source": [
    "#Add three columns: \n",
    "#“Name” with your name (same for every line) \n",
    "\n",
    "df['Name'] = 'Gaétan'\n",
    "#OR:\n",
    "# df['Name'] = ['Gaétan' for i in range(15269)]\n",
    "print(df)\n"
   ]
  },
  {
   "cell_type": "code",
   "execution_count": null,
   "metadata": {},
   "outputs": [],
   "source": [
    "#“Surname” with your surname (same for every line) \n",
    "df['Surname'] = 'Chardon'"
   ]
  },
  {
   "cell_type": "code",
   "execution_count": null,
   "metadata": {},
   "outputs": [],
   "source": [
    "#“Date_of_download” with the date of last practice (same for every line) \n",
    "df['Date of download'] = datetime.datetime(year = 2022, month = 9, day = 9)\n",
    "\n",
    "print(df)"
   ]
  },
  {
   "cell_type": "code",
   "execution_count": null,
   "metadata": {},
   "outputs": [],
   "source": [
    "#display the 10 first lines of your dataframe \n",
    "print(df.head(10))"
   ]
  },
  {
   "cell_type": "code",
   "execution_count": null,
   "metadata": {},
   "outputs": [],
   "source": [
    "#Display the 10 last lines of your dataframe \n",
    "print(df.tail(10))"
   ]
  },
  {
   "cell_type": "code",
   "execution_count": null,
   "metadata": {},
   "outputs": [],
   "source": [
    "#Save your dataframe in a .json file \n",
    "df.to_json(r\"D:\\KBTU\\2022-2023\\Python Course\\Course\\Pratices\\Practice_1\\CAT_correction.json\")"
   ]
  },
  {
   "cell_type": "code",
   "execution_count": null,
   "metadata": {},
   "outputs": [],
   "source": [
    "#Display the following dataframe: \n",
    "#Data of 2021’s summer \n",
    "\n",
    "begin_summer = datetime.datetime(year = 2021, month =6, day = 1)\n",
    "end_summer = datetime.datetime(year = 2021, month =8, day = 31)\n",
    "df_2 = df[ (df['Date'] > begin_summer) & (df['Date'] < end_summer)]"
   ]
  },
  {
   "cell_type": "code",
   "execution_count": null,
   "metadata": {},
   "outputs": [],
   "source": [
    "#Data where volume is higher than the mean volume of 2021’s winter \n",
    "begin_winter = datetime.datetime(year = 2021, month =1, day = 1)\n",
    "end_winter = datetime.datetime(year = 2021, month =3, day = 31)\n",
    "average_winter = df[ (df['Date'] > begin_winter) & (df['Date'] < end_winter)]['Volume'].mean()\n",
    "print(average_winter)\n",
    "df_2 = df_2[ df_2['Volume'] > average_winter]"
   ]
  },
  {
   "cell_type": "code",
   "execution_count": null,
   "metadata": {},
   "outputs": [],
   "source": [
    "#Only the open, close, and high prices \n",
    "\n",
    "df_2 = df_2[['Open_price', 'Close_price', 'High_price']]"
   ]
  },
  {
   "cell_type": "code",
   "execution_count": null,
   "metadata": {},
   "outputs": [],
   "source": [
    "# sort by opening price \n",
    "print(df_2.sort_values('Open_price'))"
   ]
  },
  {
   "cell_type": "code",
   "execution_count": null,
   "metadata": {},
   "outputs": [],
   "source": []
  }
 ],
 "metadata": {
  "kernelspec": {
   "display_name": "Python 3.10.4 64-bit",
   "language": "python",
   "name": "python3"
  },
  "language_info": {
   "codemirror_mode": {
    "name": "ipython",
    "version": 3
   },
   "file_extension": ".py",
   "mimetype": "text/x-python",
   "name": "python",
   "nbconvert_exporter": "python",
   "pygments_lexer": "ipython3",
   "version": "3.10.4"
  },
  "vscode": {
   "interpreter": {
    "hash": "aee8b7b246df8f9039afb4144a1f6fd8d2ca17a180786b69acc140d282b71a49"
   }
  }
 },
 "nbformat": 4,
 "nbformat_minor": 4
}
