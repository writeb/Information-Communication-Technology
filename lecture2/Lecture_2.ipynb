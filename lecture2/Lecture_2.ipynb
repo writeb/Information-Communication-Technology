{
 "cells": [
  {
   "cell_type": "markdown",
   "metadata": {},
   "source": [
    "# Correction of the practice"
   ]
  },
  {
   "cell_type": "markdown",
   "metadata": {},
   "source": [
    "## Check Python"
   ]
  },
  {
   "cell_type": "code",
   "execution_count": null,
   "metadata": {},
   "outputs": [],
   "source": [
    "#Check that your python environnment is working:\n",
    "print('It\\'s working')"
   ]
  },
  {
   "cell_type": "markdown",
   "metadata": {},
   "source": [
    "## Open csv file with Python"
   ]
  },
  {
   "cell_type": "code",
   "execution_count": null,
   "metadata": {},
   "outputs": [],
   "source": [
    "#installation => anaconda prompt => pip install csv\n",
    "#Import the csv package\n",
    "import csv"
   ]
  },
  {
   "cell_type": "code",
   "execution_count": null,
   "metadata": {
    "scrolled": true
   },
   "outputs": [],
   "source": [
    "#import the csv package and print every row in the console\n",
    "# print(\"D:\\KBTU\\2022-2023\\Python Course\\Course\\Pratices\\Practice_1\\CAT.csv\")\n",
    "# print(r\"D:\\KBTU\\2022-2023\\Python Course\\Course\\Pratices\\Practice_1\\CAT.csv\")\n",
    "#'r' : reading\n",
    "#'w' writing\n",
    "#'a' append (writing)\n",
    "\n",
    "file = open(r\"D:\\KBTU\\2022-2023\\Python Course\\Course\\Pratices\\Practice_1\\CAT.csv\", 'r')\n",
    "\n",
    "csvfile = csv.reader(file)\n",
    "for row in csvfile:\n",
    "    print(row)\n",
    "    \n",
    "file.close()\n",
    "\n",
    "#remeber to close files"
   ]
  },
  {
   "cell_type": "code",
   "execution_count": null,
   "metadata": {},
   "outputs": [],
   "source": [
    "#I recommend : with open\n",
    "#you can only iterate one time on csv.reader object\n",
    "\n",
    "with open(r\"D:\\KBTU\\2022-2023\\Python Course\\Course\\Pratices\\Practice_1\\CAT.csv\", 'r') as file:\n",
    "    csvfile = csv.reader(file)\n",
    "    csvfile.__next__()\n",
    "    for row in csvfile:\n",
    "        print(row)\n",
    "\n"
   ]
  },
  {
   "cell_type": "code",
   "execution_count": null,
   "metadata": {},
   "outputs": [],
   "source": [
    "#opened with a dictionnary\n",
    "with open(r\"D:\\KBTU\\2022-2023\\Python Course\\Course\\Pratices\\Practice_1\\CAT.csv\", 'r') as file:\n",
    "    csvfile = csv.DictReader(file)\n",
    "    for row in csvfile:\n",
    "        print(row)\n"
   ]
  },
  {
   "cell_type": "markdown",
   "metadata": {},
   "source": [
    "## Get CSV data into python console"
   ]
  },
  {
   "cell_type": "code",
   "execution_count": null,
   "metadata": {},
   "outputs": [],
   "source": [
    "#import csv package\n",
    "import csv"
   ]
  },
  {
   "cell_type": "code",
   "execution_count": null,
   "metadata": {},
   "outputs": [],
   "source": [
    "#Create lists to store data (here a list of list to go faster)\n",
    "list1, list2, list3 = [], [], []\n",
    "\n",
    "\n",
    "#Information:\n",
    "# #don't do that :\n",
    "# list1 = list2 = list3 = []\n",
    "# list1.append(1)\n",
    "# print(list1, list2)\n",
    "# info = [1,2,3]\n",
    "# info2 = info # wrong\n",
    "# info2 = [i for i in info] #right\n",
    "# info2.append(7)\n",
    "# print(info, info2)\n",
    "\n",
    "# #Be carefull of names\n",
    "# #open = [] #do not do that\n",
    "# open_list = []"
   ]
  },
  {
   "cell_type": "code",
   "execution_count": null,
   "metadata": {},
   "outputs": [],
   "source": [
    "#Open csv file and store data in lists\n",
    "#be careful with name of lists (ex : data, open)\n",
    "with open(r\"D:\\KBTU\\2022-2023\\Python Course\\Course\\Pratices\\Practice_1\\CAT.csv\", 'r') as file:\n",
    "    csvfile = csv.reader(file)\n",
    "    csvfile.__next__()\n",
    "    for row in csvfile:\n",
    "        list1.append(row[0])\n",
    "        list2.append(row[1])\n",
    "        list3.append(row[2])"
   ]
  },
  {
   "cell_type": "code",
   "execution_count": null,
   "metadata": {
    "scrolled": false
   },
   "outputs": [],
   "source": [
    "#Check your lists\n",
    "print(list1[:10])\n",
    "print(list2[:10])"
   ]
  },
  {
   "cell_type": "code",
   "execution_count": null,
   "metadata": {},
   "outputs": [],
   "source": [
    "#faster\n",
    "lists = [[] for i in range(7)]\n",
    "print(lists)\n",
    "\n",
    "with open(r\"D:\\KBTU\\2022-2023\\Python Course\\Course\\Pratices\\Practice_1\\CAT.csv\", 'r') as file:\n",
    "    csvfile = csv.reader(file)\n",
    "    csvfile.__next__()\n",
    "    for row in csvfile: \n",
    "        for index, l in enumerate(lists):\n",
    "            l.append(row[index])\n",
    "#         for index in range(0, len(lists)):\n",
    "#             lists[index].append(row[index])  \n",
    "#info about enumerate\n",
    "a = [564, 166, 12]\n",
    "for index, item in enumerate(a): \n",
    "    print(index)\n",
    "    print(item)"
   ]
  },
  {
   "cell_type": "code",
   "execution_count": null,
   "metadata": {},
   "outputs": [],
   "source": [
    "#Check your lists\n",
    "print(lists[0][:10])\n",
    "print(lists[1][:10])"
   ]
  },
  {
   "cell_type": "markdown",
   "metadata": {},
   "source": [
    "# Modify your data"
   ]
  },
  {
   "cell_type": "code",
   "execution_count": null,
   "metadata": {},
   "outputs": [],
   "source": [
    "#First: Text into number (float)\n",
    "for i in range(1,len(lists)):\n",
    "    lists[i] = [float(j) for j in lists[i]]\n",
    "    \n",
    "print(lists[1][0])"
   ]
  },
  {
   "cell_type": "code",
   "execution_count": null,
   "metadata": {},
   "outputs": [],
   "source": [
    "#Second: date\n",
    "#first check the format\n",
    "#1962-01-02\n",
    "import datetime\n",
    "print(type(datetime.datetime.strptime(\"1962-01-02\" , \"%Y-%m-%d\")))"
   ]
  },
  {
   "cell_type": "code",
   "execution_count": null,
   "metadata": {
    "scrolled": true
   },
   "outputs": [],
   "source": [
    "#let's do it for all the list\n",
    "lists[0] = [datetime.datetime.strptime(i , \"%Y-%m-%d\") for i in lists[0]]\n",
    "print(lists[0])\n",
    "# print(lists[0][3])\n",
    "# print(lists[0][3].weekday())"
   ]
  },
  {
   "cell_type": "code",
   "execution_count": null,
   "metadata": {},
   "outputs": [],
   "source": [
    "#For this week :\n",
    "#Prepare your code : clean\n",
    "#result : 7 lists with datetime and float"
   ]
  },
  {
   "cell_type": "markdown",
   "metadata": {},
   "source": [
    "# DataFrame"
   ]
  },
  {
   "cell_type": "markdown",
   "metadata": {},
   "source": [
    "## What are the advantages"
   ]
  },
  {
   "cell_type": "markdown",
   "metadata": {},
   "source": [
    "### Using lists to manage data"
   ]
  },
  {
   "cell_type": "code",
   "execution_count": null,
   "metadata": {},
   "outputs": [],
   "source": [
    "#You have a list of informations on students:\n",
    "#Create the list\n",
    "name = ['Bob', 'advgd', 'buo']\n",
    "surname = ['jhg', 'hu', 'jio']\n",
    "age = [18, 26, 17]"
   ]
  },
  {
   "cell_type": "code",
   "execution_count": null,
   "metadata": {
    "scrolled": true
   },
   "outputs": [],
   "source": [
    "#Diplay your data\n",
    "print(name)\n",
    "print(surname)\n",
    "print(age)\n",
    "#print last one\n",
    "\n",
    "print(name[-1])\n",
    "print(surname[-1])\n",
    "print(age[-1])"
   ]
  },
  {
   "cell_type": "code",
   "execution_count": null,
   "metadata": {},
   "outputs": [],
   "source": [
    "# Operate on this lists : delete one value,   \n",
    "#advgd, hu\n",
    "for i in range(0, len(name)):\n",
    "    if name[i] == 'advgd' and surname[i] == 'hu':\n",
    "        index_delete = i\n",
    "\n",
    "del name[index_delete]\n",
    "del surname[index_delete]\n",
    "del age[index_delete]\n",
    "print(name)"
   ]
  },
  {
   "cell_type": "code",
   "execution_count": null,
   "metadata": {},
   "outputs": [],
   "source": [
    "# Operate on this lists : extract information on one student\n",
    "for i in range(0, len(name)):\n",
    "    if name[i] == 'advgd' and surname[i] == 'hu':\n",
    "        print(name[i])"
   ]
  },
  {
   "cell_type": "code",
   "execution_count": null,
   "metadata": {},
   "outputs": [],
   "source": [
    "# Operate on this lists : extract information on several students\n",
    "for i in range(0, len(name)):\n",
    "    if name[i] == 'advgd' or name[i] == 'Bob':\n",
    "        print(name[i])"
   ]
  },
  {
   "cell_type": "code",
   "execution_count": null,
   "metadata": {},
   "outputs": [],
   "source": [
    "# Sort datas\n",
    "#function .sort\n",
    "print(age)\n",
    "age.sort()\n",
    "print(name)\n",
    "print(surname)\n",
    "print(age)"
   ]
  },
  {
   "cell_type": "markdown",
   "metadata": {},
   "source": [
    "# Pandas"
   ]
  },
  {
   "cell_type": "markdown",
   "metadata": {},
   "source": [
    "## The pandas package"
   ]
  },
  {
   "cell_type": "code",
   "execution_count": null,
   "metadata": {},
   "outputs": [],
   "source": [
    "#Install pandas\n",
    "# pip install pandas"
   ]
  },
  {
   "cell_type": "code",
   "execution_count": null,
   "metadata": {},
   "outputs": [],
   "source": [
    "#Import pandas package\n",
    "#recommended as pd\n",
    "import pandas as pd"
   ]
  },
  {
   "cell_type": "markdown",
   "metadata": {},
   "source": [
    "## Let's create our first DataFrame"
   ]
  },
  {
   "cell_type": "code",
   "execution_count": null,
   "metadata": {},
   "outputs": [],
   "source": [
    "#Create your first DataFrame\n",
    "#Do not forget Uppercas for \"D\" and \"F\"\n",
    "df = pd.DataFrame()\n",
    "print(df)"
   ]
  },
  {
   "cell_type": "markdown",
   "metadata": {},
   "source": [
    "## Populate it"
   ]
  },
  {
   "cell_type": "code",
   "execution_count": null,
   "metadata": {},
   "outputs": [],
   "source": [
    "#Create a dictionnary with data from student\n",
    "name = ['Bob', 'advgd', 'buo']\n",
    "surname = ['jhg', 'hu', 'jio']\n",
    "age = [18, 26, 17]"
   ]
  },
  {
   "cell_type": "code",
   "execution_count": null,
   "metadata": {},
   "outputs": [],
   "source": [
    "#Create a dataframe from this dictionnary\n",
    "# dictio = { 'key' : value}\n",
    "dictio = {'names' : name, 'surnames' : surname, 'ages' : age}\n",
    "print(dictio)\n",
    "df = pd.DataFrame(dictio)"
   ]
  },
  {
   "cell_type": "code",
   "execution_count": null,
   "metadata": {},
   "outputs": [],
   "source": [
    "# Display all your dataframe\n",
    "print(df)"
   ]
  },
  {
   "cell_type": "code",
   "execution_count": null,
   "metadata": {},
   "outputs": [],
   "source": [
    "# Display some lines of your dataframe\n",
    "print(df['names'][1])"
   ]
  },
  {
   "cell_type": "code",
   "execution_count": null,
   "metadata": {},
   "outputs": [],
   "source": [
    "#Your turn:\n",
    "#Create a empty dataframe\n",
    "#Populate it with 3 lines of 6 columns (invent your own data)\n",
    "#12:05\n",
    "import pandas\n",
    "df = pd.DataFrame({'a' : [1, 2, 3],'bc' : [1, 2, 3],'c' : [1, 2, 3],'d' : [1, 2, 3],'e' : [1, 2, 3],'f' : [1, 2, 3], })\n",
    "print(df)"
   ]
  },
  {
   "cell_type": "markdown",
   "metadata": {},
   "source": [
    "## Populate with csv file"
   ]
  },
  {
   "cell_type": "code",
   "execution_count": null,
   "metadata": {},
   "outputs": [],
   "source": [
    "# Select some data of the dataframe\n",
    "df = pd.read_csv(r\"D:\\KBTU\\2022-2023\\Python Course\\Course\\Pratices\\Practice_1\\CAT.csv\")"
   ]
  },
  {
   "cell_type": "code",
   "execution_count": null,
   "metadata": {},
   "outputs": [],
   "source": [
    "#display it\n",
    "#'\\' df continue on next lines\n",
    "#'...' => undisplayed data\n",
    "print(df)"
   ]
  },
  {
   "cell_type": "code",
   "execution_count": null,
   "metadata": {},
   "outputs": [],
   "source": [
    "# Remove 2 last columns to be more clear\n",
    "del df['Volume']\n",
    "del df['Adj Close']\n",
    "print(df)"
   ]
  },
  {
   "cell_type": "code",
   "execution_count": null,
   "metadata": {
    "scrolled": true
   },
   "outputs": [],
   "source": [
    "#Modify data for later use (date and float)\n",
    "# print(type(df['Open'][0]))\n",
    "# print(type(df['Date'][0]))\n",
    "# df['Date_in_datetime'] = [datetime.datetime.strptime(i , \"%Y-%m-%d\") for i in df['Date']]\n",
    "# print(df)\n",
    "# print(type(df['Date_in_datetime'][0]))\n",
    "\n",
    "df['Date'] = [datetime.datetime.strptime(i , \"%Y-%m-%d\") for i in df['Date']]\n",
    "print(df)"
   ]
  },
  {
   "cell_type": "code",
   "execution_count": null,
   "metadata": {
    "scrolled": true
   },
   "outputs": [],
   "source": [
    "#YOUR TURN\n",
    "#Use you data from last pratice to make a dataframe from it\n",
    "#Choose your own names for the columns (check the documentation of read_csv method)\n",
    "#Column names should be : \n",
    "#['Date', 'Open price', 'High price', 'Low price', 'Close price', 'Adjusted close price', 'Volume exchanged']\n",
    "#Try to automaticaly change Date into datetime object with the read_csv emthod \n",
    "#(check the documentation of read_csv method)\n",
    "#12:25\n",
    "df = pd.read_csv( r\"D:\\KBTU\\2022-2023\\Python Course\\Course\\Pratices\\Practice_1\\CAT.csv\",\n",
    "                header=0,\n",
    "                 names = ['Date', 'Open price', 'High price', 'Low price', 'Close price', 'Adjusted close price', 'Volume exchanged'],\n",
    "                 parse_dates = [0]\n",
    "                )\n",
    "print(type(df['Date'][0]))"
   ]
  },
  {
   "cell_type": "markdown",
   "metadata": {},
   "source": [
    "## Select data"
   ]
  },
  {
   "cell_type": "code",
   "execution_count": null,
   "metadata": {},
   "outputs": [],
   "source": [
    "# Display of the first data of the dataframe\n",
    "print(df['Date'][0])\n",
    "\n",
    "# loc function => [index, name column]\n",
    "print(df.loc[5245, 'Low'])"
   ]
  },
  {
   "cell_type": "code",
   "execution_count": null,
   "metadata": {
    "scrolled": true
   },
   "outputs": [],
   "source": [
    "#select only a line with index (iloc)\n",
    "\n",
    "# iloc function => [index, index column]\n",
    "print(df.iloc[5245, 3])"
   ]
  },
  {
   "cell_type": "code",
   "execution_count": null,
   "metadata": {},
   "outputs": [],
   "source": [
    "#Select several lines with indexes\n",
    "print(df.iloc[range(2165, 2170), range(2,4)])"
   ]
  },
  {
   "cell_type": "code",
   "execution_count": null,
   "metadata": {
    "scrolled": true
   },
   "outputs": [],
   "source": [
    "#Creation of a selection DataFrame\n",
    "# a = 100\n",
    "# print(a>1000)\n",
    "print(df['High'] > 100)\n",
    "select_df = df['High'] > 100"
   ]
  },
  {
   "cell_type": "code",
   "execution_count": null,
   "metadata": {},
   "outputs": [],
   "source": [
    "#select a part.\n",
    "print(df[select_df])\n",
    "print(df[df['Open'] < 50])"
   ]
  },
  {
   "cell_type": "code",
   "execution_count": null,
   "metadata": {
    "scrolled": true
   },
   "outputs": [],
   "source": [
    "#Select a part of a Dataframe  ( () &() \n",
    "#& => AND\n",
    "#| => OR\n",
    "print(df[  (df['Open'] < 50) | (df['High'] > 50)  ])\n"
   ]
  },
  {
   "cell_type": "code",
   "execution_count": null,
   "metadata": {},
   "outputs": [],
   "source": [
    "begin = datetime.datetime(year = 2021, month = 5, day = 25)\n",
    "print(begin)\n",
    "print(df[df['Date'] > begin])"
   ]
  },
  {
   "cell_type": "code",
   "execution_count": null,
   "metadata": {},
   "outputs": [],
   "source": [
    "#Sort the dataframe (.sort_values)\n",
    "print(df.sort_values('Low'))"
   ]
  },
  {
   "cell_type": "code",
   "execution_count": null,
   "metadata": {},
   "outputs": [],
   "source": [
    "#YOUR TURN\n",
    "#From your dataframe: extract data with the following conditions:\n",
    "# - Only in 2021\n",
    "# - Only date, Volume and High\n",
    "# - Only when high price is superior than 2019 average high price (use .mean()) => df[].mean()\n",
    "#12:50\n",
    "\n",
    "df = pd.read_csv( r\"D:\\KBTU\\2022-2023\\Python Course\\Course\\Pratices\\Practice_1\\CAT.csv\",\n",
    "                parse_dates = [0]\n",
    "                )\n",
    "\n",
    "date_begin_mean = datetime.datetime(year = 2019, month = 1, day = 1)\n",
    "date_end_mean = datetime.datetime(year = 2020, month = 1, day = 1)\n",
    "\n",
    "mean = df[ (df['Date'] > date_begin_mean) & (df['Date'] < date_end_mean) ]['High'].mean()\n",
    "print(mean)\n",
    "\n",
    "date_begin = datetime.datetime(year = 2021, month = 1, day = 1)\n",
    "date_end = datetime.datetime(year = 2022, month = 1, day = 1)\n",
    "\n",
    "df = df[ (df['Date'] > date_begin) & (df['Date'] < date_end) & (df['High'] > mean)]\n",
    "df = df.loc[:, ['Date', 'Volume', 'High']]\n",
    "\n",
    "print(df)\n",
    "\n",
    "\n",
    "#in 1 instruction\n",
    "print(df.loc[:, ['Date', 'Volume', 'High']] \\\n",
    "      [ (df['Date'] > begin) &\\\n",
    "       (df['Date'] < end) &\\\n",
    "        (df['High']  > (df[ (df['Date'] > begin_mean) & (df['Date'] < end_mean) ]['High'].mean()))])"
   ]
  },
  {
   "cell_type": "code",
   "execution_count": null,
   "metadata": {},
   "outputs": [],
   "source": [
    "#Information:\n",
    "# 80 students\n",
    "# 95 crosses on attendance\n",
    "# attendance => 12:40"
   ]
  }
 ],
 "metadata": {
  "kernelspec": {
   "display_name": "Python 3.10.4 64-bit",
   "language": "python",
   "name": "python3"
  },
  "language_info": {
   "codemirror_mode": {
    "name": "ipython",
    "version": 3
   },
   "file_extension": ".py",
   "mimetype": "text/x-python",
   "name": "python",
   "nbconvert_exporter": "python",
   "pygments_lexer": "ipython3",
   "version": "3.10.4"
  },
  "vscode": {
   "interpreter": {
    "hash": "aee8b7b246df8f9039afb4144a1f6fd8d2ca17a180786b69acc140d282b71a49"
   }
  }
 },
 "nbformat": 4,
 "nbformat_minor": 4
}
