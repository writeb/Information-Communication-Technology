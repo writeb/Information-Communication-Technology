{
 "cells": [
  {
   "cell_type": "markdown",
   "metadata": {},
   "source": [
    "# Lecture 9: Machine Learning"
   ]
  },
  {
   "cell_type": "code",
   "execution_count": null,
   "metadata": {},
   "outputs": [],
   "source": [
    "#Install the package numpy and scikit-learn\n"
   ]
  },
  {
   "cell_type": "code",
   "execution_count": 2,
   "metadata": {},
   "outputs": [],
   "source": [
    "#import the packages (numpy and linear_model from scikit)\n",
    "import numpy as np"
   ]
  },
  {
   "cell_type": "markdown",
   "metadata": {},
   "source": [
    "## Introduction to numpy"
   ]
  },
  {
   "cell_type": "code",
   "execution_count": 5,
   "metadata": {},
   "outputs": [
    {
     "name": "stdout",
     "output_type": "stream",
     "text": [
      "[1 2 3 4 5 6]\n"
     ]
    }
   ],
   "source": [
    "#Create your first numpy array in 1 dimension\n",
    "array = np.array([1, 2, 3, 4, 5, 6])\n",
    "print(array)"
   ]
  },
  {
   "cell_type": "code",
   "execution_count": 6,
   "metadata": {},
   "outputs": [
    {
     "name": "stdout",
     "output_type": "stream",
     "text": [
      "[[1 2 3]\n",
      " [4 5 6]]\n",
      "--------------------\n",
      "[[1, 2, 3], [4, 5, 6]]\n"
     ]
    }
   ],
   "source": [
    "#Create your first 2 dimensionnal arry\n",
    "l = [[1, 2, 3], [4, 5, 6]]\n",
    "array = np.array([[1, 2, 3], [4, 5, 6]])\n",
    "print(array)\n",
    "print('-'*20)\n",
    "print(l)"
   ]
  },
  {
   "cell_type": "code",
   "execution_count": null,
   "metadata": {},
   "outputs": [],
   "source": [
    "#getting access to numpy array items\n",
    "array = np.array([[1, 2, 3], [4, 5, 6]])\n",
    "print(array[0][1])"
   ]
  },
  {
   "cell_type": "code",
   "execution_count": null,
   "metadata": {},
   "outputs": [],
   "source": [
    "#the copy and the view\n",
    "list0 = [1, 2, 3]\n",
    "list1 = list0.copy()\n",
    "list1[0] = 55\n",
    "print(list1)\n",
    "print(list0)"
   ]
  },
  {
   "cell_type": "code",
   "execution_count": null,
   "metadata": {},
   "outputs": [],
   "source": [
    "#the copy and the view\n",
    "arr0 = np.array([1, 2, 3])\n",
    "arr1 = arr0.view()\n",
    "arr2 = arr0.copy()\n",
    "arr1[1]= 50\n",
    "arr2[1] = 50000\n",
    "print(arr0)\n",
    "print(arr1)\n",
    "print(arr2)"
   ]
  },
  {
   "cell_type": "code",
   "execution_count": 13,
   "metadata": {},
   "outputs": [
    {
     "name": "stdout",
     "output_type": "stream",
     "text": [
      "[[       1 20000000        3]\n",
      " [       4        5        6]]\n"
     ]
    }
   ],
   "source": [
    "array = np.array([[1, 20000000, 3], [4, 5, 6]])\n",
    "print(array)"
   ]
  },
  {
   "cell_type": "code",
   "execution_count": 7,
   "metadata": {},
   "outputs": [
    {
     "name": "stdout",
     "output_type": "stream",
     "text": [
      "(6,)\n"
     ]
    }
   ],
   "source": [
    "#The shape of an array\n",
    "array = np.array([1, 2, 3, 4, 5, 6])\n",
    "print(array.shape)"
   ]
  },
  {
   "cell_type": "code",
   "execution_count": 11,
   "metadata": {
    "scrolled": true
   },
   "outputs": [
    {
     "name": "stdout",
     "output_type": "stream",
     "text": [
      "[[1 2]\n",
      " [3 4]\n",
      " [5 6]]\n"
     ]
    }
   ],
   "source": [
    "#reshape your array from 1D to 2D\n",
    "array = np.array([1, 2, 3, 4, 5, 6])\n",
    "print(array.reshape((3,2)))"
   ]
  },
  {
   "cell_type": "code",
   "execution_count": null,
   "metadata": {},
   "outputs": [],
   "source": [
    "#reshape your array from 1D to 2D\n",
    "array = np.array([1, 2, 3, 4, 5, 6])\n",
    "print(array.reshape((6,1)))"
   ]
  },
  {
   "cell_type": "code",
   "execution_count": 12,
   "metadata": {
    "scrolled": true
   },
   "outputs": [
    {
     "name": "stdout",
     "output_type": "stream",
     "text": [
      "[[1 2]\n",
      " [3 4]\n",
      " [5 6]]\n"
     ]
    }
   ],
   "source": [
    "#reshape your array from 1D to another D (with -1)\n",
    "array = np.array([1, 2, 3, 4, 5, 6])\n",
    "print(array.reshape((-1,2)))"
   ]
  },
  {
   "cell_type": "code",
   "execution_count": null,
   "metadata": {},
   "outputs": [],
   "source": [
    "#reshape your array from 1D to another D (with -1)\n",
    "array = np.array([1, 2, 3, 4, 5, 6])\n",
    "print(array.reshape((-1,1)))"
   ]
  },
  {
   "cell_type": "code",
   "execution_count": null,
   "metadata": {},
   "outputs": [],
   "source": [
    "#The hstack\n",
    "array0 = np.array([1, 2, 3, 4, 5, 6])\n",
    "array0 = array.reshape((-1,1))\n",
    "array1 = np.array([7, 8, 9, 10, 11, 12])\n",
    "array1 = array1.reshape((-1,1))\n",
    "print(array0)\n",
    "print('-'*20)\n",
    "print(array1)\n",
    "print('-'*20)\n",
    "print(np.hstack([array0, array1]))"
   ]
  },
  {
   "cell_type": "code",
   "execution_count": null,
   "metadata": {},
   "outputs": [],
   "source": [
    "#The avantage of numpy, the use of array for addition or multiplication for example\n",
    "l = [1, 2, 3, 4]\n",
    "arr = np.array([1,2,3,4])\n",
    "# print(l +2 )\n",
    "print(arr +2 )\n",
    "print(arr *2 )\n",
    "print(l + l )\n",
    "print(arr + arr )"
   ]
  },
  {
   "cell_type": "code",
   "execution_count": null,
   "metadata": {},
   "outputs": [],
   "source": [
    "#YOUR TURN (10 minutes)\n",
    "#Change this array [1,5,9,31,45,78]\n",
    "#into this one:\n",
    "#[[1 5],\n",
    "#[9 31],\n",
    "#[45 78]]\n",
    "arr = np.array([1,5,9,31,45,78])\n",
    "print(arr.reshape((3,2)))\n",
    "print(arr.reshape((-1,2)))\n",
    "print(arr.reshape((3,-1)))"
   ]
  }
 ],
 "metadata": {
  "kernelspec": {
   "display_name": "Python 3.10.4 64-bit",
   "language": "python",
   "name": "python3"
  },
  "language_info": {
   "codemirror_mode": {
    "name": "ipython",
    "version": 3
   },
   "file_extension": ".py",
   "mimetype": "text/x-python",
   "name": "python",
   "nbconvert_exporter": "python",
   "pygments_lexer": "ipython3",
   "version": "3.10.4"
  },
  "vscode": {
   "interpreter": {
    "hash": "aee8b7b246df8f9039afb4144a1f6fd8d2ca17a180786b69acc140d282b71a49"
   }
  }
 },
 "nbformat": 4,
 "nbformat_minor": 4
}
