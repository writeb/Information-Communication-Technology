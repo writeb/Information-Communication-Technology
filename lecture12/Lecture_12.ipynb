{
 "cells": [
  {
   "cell_type": "markdown",
   "metadata": {},
   "source": [
    "# Correction of practice 11"
   ]
  },
  {
   "cell_type": "code",
   "execution_count": null,
   "metadata": {},
   "outputs": [],
   "source": [
    "import pandas as pd\n",
    "import numpy as np\n",
    "import matplotlib.pyplot as plt\n",
    "import sklearn.model_selection as sksel\n",
    "import sklearn.preprocessing as skprepro\n",
    "import sklearn.linear_model as skmod"
   ]
  },
  {
   "cell_type": "code",
   "execution_count": null,
   "metadata": {},
   "outputs": [],
   "source": [
    "df = pd.read_parquet(r\"D:\\KBTU\\2022-2023\\Python Course\\Course\\Pratices\\Practice_11\\Data_to_analyse.parquet\")\n",
    "print(df)"
   ]
  },
  {
   "cell_type": "code",
   "execution_count": null,
   "metadata": {},
   "outputs": [],
   "source": [
    "x1 = df[\"Age\"].to_numpy().reshape(-1,1)\n",
    "x2 = df.Account_money.to_numpy().reshape(-1,1)\n",
    "y = df.Money_given.to_numpy().reshape(-1,1)\n"
   ]
  },
  {
   "cell_type": "code",
   "execution_count": null,
   "metadata": {},
   "outputs": [],
   "source": [
    "plt.scatter(x1, y)\n",
    "plt.show()\n",
    "plt.scatter(x2, y)\n",
    "plt.show()\n",
    "# plt.scatter(x1, x2)"
   ]
  },
  {
   "cell_type": "code",
   "execution_count": null,
   "metadata": {},
   "outputs": [],
   "source": [
    "x = np.hstack([x1, x2])\n",
    "x_train, x_test, y_train, y_test = sksel.train_test_split(x, \n",
    "                                                          y, \n",
    "                                                          train_size = 0.8,\n",
    "                                                         shuffle = True)\n",
    "\n",
    "# x_train, x_test, y_train, y_test = sksel.train_test_split(df.loc[:, ['Account_money', 'Age']], \n",
    "#                                                           df.Money_given, \n",
    "#                                                           train_size = 0.8,\n",
    "#                                                          shuffle = True)\n",
    "print(len(x_train), len(x_test))\n",
    "print(x_train)"
   ]
  },
  {
   "cell_type": "code",
   "execution_count": null,
   "metadata": {},
   "outputs": [],
   "source": [
    "scaler_x = skprepro.StandardScaler()\n",
    "scaler_y = skprepro.StandardScaler()\n",
    "scaler_x = scaler_x.fit(x_train)\n",
    "x_train_std = scaler_x.transform(x_train)\n",
    "y_train_std = scaler_y.fit_transform(y_train)\n",
    "print(x_train_std)"
   ]
  },
  {
   "cell_type": "code",
   "execution_count": null,
   "metadata": {},
   "outputs": [],
   "source": [
    "model = skmod.LinearRegression()\n",
    "model = model.fit(x_train_std, y_train_std)\n",
    "print(model.coef_)\n",
    "print(model.intercept_)\n",
    "#eq: y' = -0.87 *x1 + 0.35*x2 +0 (x1 : age, x2 : account money)"
   ]
  },
  {
   "cell_type": "code",
   "execution_count": null,
   "metadata": {
    "scrolled": true
   },
   "outputs": [],
   "source": [
    "print(model.score(x_train_std, y_train_std))\n",
    "#\n",
    "x_test_std = scaler_x.transform(x_test)\n",
    "y_test_std = scaler_y.transform(y_test)\n",
    "print(model.score(x_test_std, y_test_std))"
   ]
  },
  {
   "cell_type": "code",
   "execution_count": null,
   "metadata": {},
   "outputs": [],
   "source": [
    "#predictions\n",
    "# John: Money on his account: 100 000$, age: 20\n",
    "# Charles: Money on his account: 100 000 000$, age: 90\n",
    "prediction_x1 = np.array([[20, 100_000], [90, 100_000_000]])\n",
    "prediction_x1_std = scaler_x.transform(prediction_x1)\n",
    "prediction_y1_std = model.predict(prediction_x1_std)\n",
    "prediction_y1 = scaler_y.inverse_transform(prediction_y1_std)\n",
    "print(prediction_y1)"
   ]
  },
  {
   "cell_type": "code",
   "execution_count": null,
   "metadata": {},
   "outputs": [],
   "source": []
  },
  {
   "cell_type": "markdown",
   "metadata": {},
   "source": [
    "# Lecture 12: Logistic regression"
   ]
  },
  {
   "cell_type": "code",
   "execution_count": null,
   "metadata": {},
   "outputs": [],
   "source": [
    "#Importation\n"
   ]
  },
  {
   "cell_type": "markdown",
   "metadata": {},
   "source": [
    "## Logistic regression with only 2 possible outputs"
   ]
  },
  {
   "cell_type": "code",
   "execution_count": null,
   "metadata": {},
   "outputs": [],
   "source": [
    "import numpy as np\n",
    "import matplotlib.pyplot as plt\n",
    "import sklearn.linear_model as skmod"
   ]
  },
  {
   "cell_type": "code",
   "execution_count": null,
   "metadata": {},
   "outputs": [],
   "source": [
    "#The data from data_man_woman\n",
    "hair_length = [20, 54, 38, 22, 5, 40, 6, 2, 20, 5, 35, 3, 24, 41, 49, 18, 50, 65, 66]\n",
    "gender = [\"Female\", \"Female\", \"Female\", \"Male\", \"Male\", \"Male\", \"Male\", \"Male\", \"Male\", \"Male\", \"Male\", \"Male\", \"Male\", \"Female\", \"Female\", \"Male\", \"Female\", \"Female\", \"Female\"]\n"
   ]
  },
  {
   "cell_type": "code",
   "execution_count": null,
   "metadata": {},
   "outputs": [],
   "source": [
    "#Change the gender by a code\n",
    "gender_code = []\n",
    "for i in gender:\n",
    "    if i == 'Male':\n",
    "        gender_code.append(0)\n",
    "    if i == 'Female':\n",
    "        gender_code.append(1)\n",
    "print(gender_code)"
   ]
  },
  {
   "cell_type": "code",
   "execution_count": null,
   "metadata": {
    "scrolled": true
   },
   "outputs": [],
   "source": [
    "#Plot the data\n",
    "plt.scatter(hair_length, gender_code)"
   ]
  },
  {
   "cell_type": "code",
   "execution_count": null,
   "metadata": {
    "scrolled": true
   },
   "outputs": [],
   "source": [
    "#Create the numpy arrays like in Linear regression\n",
    "arr_hair = np.array(hair_length).reshape(-1,1)\n",
    "arr_gender = np.array(gender_code)"
   ]
  },
  {
   "cell_type": "code",
   "execution_count": null,
   "metadata": {},
   "outputs": [],
   "source": [
    "#Be careful, label are required in a line format not column\n",
    "#use .ravel() function\n",
    "print(arr_gender)\n",
    "print(arr_gender.ravel())"
   ]
  },
  {
   "cell_type": "code",
   "execution_count": null,
   "metadata": {
    "scrolled": true
   },
   "outputs": [],
   "source": [
    "#Create a logistic regression and train it\n",
    "model = skmod.LogisticRegression()\n",
    "model = model.fit(arr_hair, arr_gender)"
   ]
  },
  {
   "cell_type": "code",
   "execution_count": null,
   "metadata": {},
   "outputs": [],
   "source": [
    "#print the score\n",
    "print(model.score(arr_hair, arr_gender))"
   ]
  },
  {
   "cell_type": "code",
   "execution_count": null,
   "metadata": {},
   "outputs": [],
   "source": [
    "#predict the result or the probability with predict_proba (remeber to scale your x data)\n",
    "print(model.predict(np.array([[20], [30], [40], [50]])))\n",
    "print(model.predict_proba(np.array([[20], [35]])))"
   ]
  },
  {
   "cell_type": "code",
   "execution_count": null,
   "metadata": {
    "scrolled": true
   },
   "outputs": [],
   "source": [
    "#plot our data, prediction and proba\n",
    "plt.scatter(arr_hair, arr_gender)\n",
    "plt.plot(np.arange(0,70,0.1), model.predict(np.arange(0,70,0.1).reshape(-1,1)))\n",
    "plt.plot(np.arange(0,70,0.1), model.predict_proba(np.arange(0,70,0.1).reshape(-1,1)))"
   ]
  },
  {
   "cell_type": "code",
   "execution_count": null,
   "metadata": {},
   "outputs": [],
   "source": [
    "#the confusion matrix module sklearn.metrics, function confusion_matrix()\n",
    "import sklearn.metrics as skmet\n",
    "print( skmet.confusion_matrix(arr_gender, model.predict(arr_hair)))"
   ]
  },
  {
   "cell_type": "code",
   "execution_count": null,
   "metadata": {
    "scrolled": true
   },
   "outputs": [],
   "source": [
    "#YOUR TURN (15 minutes)\n",
    "#Make a logistic regression with the folowing data (data_student_work.txt in Teams):\n",
    "hours_homework = [1, 10, 3, 20, 32, 6, 1, 9, 2, 10, 5]\n",
    "success_exam = ['fail', 'pass','fail','pass','pass','fail','fail','pass','fail', 'fail', 'pass']\n",
    "#precdit the probability of exam failing for a student who work 8 hours \n",
    "#per week\n",
    "#don't use train and test and don't use any Scaler\n",
    "success_code = [int(i == 'pass') for i in success_exam]\n",
    "success_code = np.array(success_code)\n",
    "hours = np.array(hours_homework).reshape(-1,1)\n",
    "model = skmod.LogisticRegression().fit(hours, success_code)\n",
    "print(model.predict_proba(np.array([[8]])))"
   ]
  },
  {
   "cell_type": "markdown",
   "metadata": {},
   "source": [
    "## Label encoder"
   ]
  },
  {
   "cell_type": "code",
   "execution_count": null,
   "metadata": {},
   "outputs": [],
   "source": [
    "#data from Data_activities\n",
    "l_sport= [\"Base Jump\", \"Tea with friends\", \"Video games\"]\n",
    "favorite_sport = [\"Base Jump\", \"Tea with friends\", \"Base Jump\", \"Tea with friends\", \"Tea with friends\", \"Base Jump\", \"Base Jump\", \"Tea with friends\", \"Video games\", \"Base Jump\", \"Base Jump\", \"Video games\", \"Tea with friends\", \"Video games\", \"Tea with friends\", \"Video games\", \"Video games\", \"Video games\"]\n",
    "age = [32, 48, 28, 83, 87, 28, 25, 81, 20, 30, 25, 12, 80, 23, 87, 12, 24, 19]"
   ]
  },
  {
   "cell_type": "code",
   "execution_count": null,
   "metadata": {},
   "outputs": [],
   "source": [
    "# Create an ecnoder LabelEncoder() and use fit_transform() function\n",
    "encoder = skprepro.LabelEncoder()\n",
    "# encoder= encoder.fit(favorite_sport)\n",
    "encoder= encoder.fit(l_sport)\n",
    "fav_code = encoder.transform(favorite_sport)\n",
    "print(fav_code)"
   ]
  },
  {
   "cell_type": "code",
   "execution_count": null,
   "metadata": {},
   "outputs": [],
   "source": [
    "#label encoder : the inverse_transform method and the class_ attributes.\n",
    "print(encoder.classes_)\n",
    "print(encoder.inverse_transform(np.array([2])))"
   ]
  },
  {
   "cell_type": "markdown",
   "metadata": {},
   "source": [
    "## OVR (one versus rest) method (more than 2 classes)"
   ]
  },
  {
   "cell_type": "code",
   "execution_count": null,
   "metadata": {},
   "outputs": [],
   "source": [
    "#change it to numpy array\n",
    "fav_code = np.array(fav_code)\n",
    "age = np.array(age).reshape(-1,1)"
   ]
  },
  {
   "cell_type": "code",
   "execution_count": null,
   "metadata": {},
   "outputs": [],
   "source": [
    "#make a logitic regression (use the parameter mutli_class = 'ovr')\n",
    "model = skmod.LogisticRegression(multi_class = 'ovr')\n",
    "model = model.fit(age, fav_code)"
   ]
  },
  {
   "cell_type": "code",
   "execution_count": null,
   "metadata": {},
   "outputs": [],
   "source": [
    "#make prediction and predict proba\n",
    "print(model.predict(np.array([[20], [30], [40]])))\n",
    "print(encoder.inverse_transform(model.predict(np.array([[20], [30], [40]]))))\n",
    "print(model.predict_proba(np.array([[20], [30], [40]])))\n",
    "print(encoder.classes_)"
   ]
  },
  {
   "cell_type": "code",
   "execution_count": null,
   "metadata": {},
   "outputs": [],
   "source": [
    "#plot it\n",
    "plt.scatter(age, fav_code)\n",
    "plt.plot(np.arange(0,90,0.1), model.predict(np.arange(0,90,0.1).reshape(-1,1)))\n",
    "plt.plot(np.arange(0,90,0.1), model.predict_proba(np.arange(0,90,0.1).reshape(-1,1)))"
   ]
  },
  {
   "cell_type": "code",
   "execution_count": null,
   "metadata": {},
   "outputs": [],
   "source": [
    "#print the confusion matrix\n",
    "print(skmet.confusion_matrix(fav_code, model.predict(age)))\n",
    "print(model.score(age, fav_code))"
   ]
  },
  {
   "cell_type": "code",
   "execution_count": null,
   "metadata": {
    "scrolled": true
   },
   "outputs": [],
   "source": [
    "#also work with text instead of code\n"
   ]
  },
  {
   "cell_type": "code",
   "execution_count": null,
   "metadata": {},
   "outputs": [],
   "source": [
    "#YOUR TURN (15 minutes)\n",
    "#with the following data (salary in millions tenge) (file data_salary_car.txt in Teams):\n",
    "# Salary = [3.19, 4.28, 2.63, 4.6, 1.26, 1.17, 2.58, 4.19, 0.67, 1.88, 3.81, 1.57, 2.44, 0.97, 3.59, 1.7, 1.34, 1.91, 2.77, 2.53, 1.27]\n",
    "# Age= [52, 66, 56, 50, 29, 20, 36, 33, 45, 53, 24, 59, 45, 69, 68, 26, 43, 45, 61, 20, 53]\n",
    "# Car = [\"Mercedes\", \"Mercedes\", \"Mercedes\", \"Toyota\", \"Kia\", \"Kia\", \"Toyota\", \"Toyota\", \"Peugot\", \"Toyota\", \"Peugot\", \"Toyota\", \"Toyota\", \"Peugot\", \"Mercedes\", \"Kia\", \"Toyota\", \"Toyota\", \"Mercedes\", \"Peugot\", \"Toyota\"]\n",
    "\n",
    "# Can you guess what if a probability of a 45 years old person with a \n",
    "# salary of 2.5 millions tenge to have a mercedes?\n",
    "# don't use any scaler neither test and train sets"
   ]
  },
  {
   "cell_type": "code",
   "execution_count": null,
   "metadata": {},
   "outputs": [],
   "source": [
    "\n"
   ]
  },
  {
   "cell_type": "code",
   "execution_count": null,
   "metadata": {},
   "outputs": [],
   "source": []
  },
  {
   "cell_type": "code",
   "execution_count": null,
   "metadata": {},
   "outputs": [],
   "source": []
  },
  {
   "cell_type": "markdown",
   "metadata": {},
   "source": [
    "# Code used to create a confusion matrix heat map"
   ]
  },
  {
   "cell_type": "code",
   "execution_count": null,
   "metadata": {},
   "outputs": [],
   "source": [
    "# import seaborn as sns\n",
    "# import pandas as pd\n",
    "\n",
    "# class_names=[0,1] # name  of classes\n",
    "# fig, ax = plt.subplots()\n",
    "# tick_marks = np.arange(len(class_names))\n",
    "# plt.xticks(tick_marks, class_names)\n",
    "# plt.yticks(tick_marks, class_names)\n",
    "# # create heatmap\n",
    "# sns.heatmap(pd.DataFrame(cnf_matrix), annot=True, cmap=\"YlGnBu\" ,fmt='g')\n",
    "# ax.xaxis.set_label_position(\"top\")\n",
    "# plt.tight_layout()\n",
    "# plt.title('Confusion matrix', y=1.1)\n",
    "# plt.ylabel('Actual label')\n",
    "# plt.xlabel('Predicted label')\n",
    "\n",
    "# # Text(0.5,257.44,'Predicted label');"
   ]
  },
  {
   "cell_type": "code",
   "execution_count": null,
   "metadata": {},
   "outputs": [],
   "source": []
  }
 ],
 "metadata": {
  "kernelspec": {
   "display_name": "Python 3",
   "language": "python",
   "name": "python3"
  },
  "language_info": {
   "codemirror_mode": {
    "name": "ipython",
    "version": 3
   },
   "file_extension": ".py",
   "mimetype": "text/x-python",
   "name": "python",
   "nbconvert_exporter": "python",
   "pygments_lexer": "ipython3",
   "version": "3.8.3"
  }
 },
 "nbformat": 4,
 "nbformat_minor": 4
}
