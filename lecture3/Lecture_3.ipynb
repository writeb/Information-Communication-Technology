{
 "cells": [
  {
   "cell_type": "markdown",
   "metadata": {},
   "source": [
    "# Creating a DataFrame"
   ]
  },
  {
   "cell_type": "code",
   "execution_count": null,
   "metadata": {},
   "outputs": [],
   "source": [
    "import pandas as pd\n",
    "print(pd.__version__)"
   ]
  },
  {
   "cell_type": "markdown",
   "metadata": {},
   "source": [
    "## Using a dictionnary"
   ]
  },
  {
   "cell_type": "code",
   "execution_count": null,
   "metadata": {},
   "outputs": [],
   "source": [
    "# Data :\n",
    "# Brand : 'Coca', 'pepsi', 'Sprite', 'water'\n",
    "# Taste : 5, 6, 9, 8\n",
    "# Sugar content : 'high', 'high', 'high', 'low'\n",
    "# YOUR TURN : Create a dataframe from the dictionnary (10 minutes) => 11:20\n",
    "df = pd.DataFrame ({  ...  })"
   ]
  },
  {
   "cell_type": "code",
   "execution_count": null,
   "metadata": {},
   "outputs": [],
   "source": [
    "# Create the dataframe directly with dictionary\n",
    "df = pd.DataFrame ({\n",
    "        'Brand' : ['Coca', 'pepsi', 'Sprite', 'water'],\n",
    "        'Taste': [5, 6, 9, 8],\n",
    "        'Sugar_content' : ['high', 'high', 'high', 'low']\n",
    "                })\n",
    "print(df)\n",
    "#Do not use dict as dictionary (this is like int, float)\n"
   ]
  },
  {
   "cell_type": "code",
   "execution_count": null,
   "metadata": {},
   "outputs": [],
   "source": [
    "# Take csv data to dictionnary adn create dataframe\n",
    "import csv\n",
    "with open(r\"D:\\KBTU\\2022-2023\\Python Course\\Course\\Lecture\\Lecture_3\\Apple_price_csv.csv\", 'r') as file:\n",
    "    csvfile = csv.DictReader(file)\n",
    "    df = pd.DataFrame(csvfile)\n",
    "    \n",
    "print(df)"
   ]
  },
  {
   "cell_type": "markdown",
   "metadata": {},
   "source": [
    "## Using a list"
   ]
  },
  {
   "cell_type": "code",
   "execution_count": null,
   "metadata": {},
   "outputs": [],
   "source": [
    "# Data :\n",
    "# Brand : 'Coca', 'pepsi', 'Sprite', 'water'\n",
    "#Taste : 5, 6, 9, 8\n",
    "#Sgar content : 'high', 'high', 'high', 'low'\n",
    "#YOUR TURN : \n",
    "#Create a dtaframe from the lists (10 minutes) => 11:33\n",
    "#Without using any dictionary\n",
    "brand = ['Coca', 'pepsi', 'Sprite', 'water']\n",
    "taste = [5, 6, 9, 8]\n",
    "sugar_content = ['high', 'high', 'high', 'low']\n",
    "df = pd.DataFrame(  ...  )"
   ]
  },
  {
   "cell_type": "code",
   "execution_count": null,
   "metadata": {},
   "outputs": [],
   "source": [
    "# Create the lists\n",
    "brand = ['Coca', 'pepsi', 'Sprite', 'water']\n",
    "taste = [5, 6, 9, 8]\n",
    "sugar_content = ['high', 'high', 'high', 'low']"
   ]
  },
  {
   "cell_type": "code",
   "execution_count": null,
   "metadata": {},
   "outputs": [],
   "source": [
    "#Create dataframe from lists\n",
    "# with pd.DataFrame()\n",
    "df = pd.DataFrame([brand, taste, sugar_content] )\n",
    "print(df)\n",
    "#dataframe is waiting for [line1, line2, line3, ...]"
   ]
  },
  {
   "cell_type": "code",
   "execution_count": null,
   "metadata": {},
   "outputs": [],
   "source": [
    "#The zip function\n",
    "list0 = [0,1,2]\n",
    "list1 = ['a', 'b', 'c']\n",
    "list2 = ['g', 'h', 'k']\n",
    "print(list(zip(list0, list1, list2)))"
   ]
  },
  {
   "cell_type": "code",
   "execution_count": null,
   "metadata": {},
   "outputs": [],
   "source": [
    "#YOUR TURN\n",
    "# Come back to your previous dataframe and use the zip function (5 minutes) 11:38"
   ]
  },
  {
   "cell_type": "code",
   "execution_count": null,
   "metadata": {},
   "outputs": [],
   "source": [
    "#Creation of dataframe with the zip function\n",
    "df = pd.DataFrame(list(zip(brand, taste, sugar_content)), columns = ['Brand', 'Taste', 'Suagr_content'])\n",
    "print(df)\n",
    "#Do not do list = [kxsvjxfmb] it's like doing => print = 5"
   ]
  },
  {
   "cell_type": "code",
   "execution_count": null,
   "metadata": {},
   "outputs": [],
   "source": [
    "#With the csv file (easier)\n",
    "with open(r\"D:\\KBTU\\2022-2023\\Python Course\\Course\\Lecture\\Lecture_3\\Apple_price_csv.csv\", 'r') as file:\n",
    "    csvfile = csv.reader(file)\n",
    "    columns_name = csvfile.__next__()\n",
    "#     print(columns_name)\n",
    "    df = pd.DataFrame(csvfile,  columns = columns_name)\n",
    "    \n",
    "print(df)"
   ]
  },
  {
   "cell_type": "markdown",
   "metadata": {},
   "source": [
    "## Using read_csv method"
   ]
  },
  {
   "cell_type": "code",
   "execution_count": null,
   "metadata": {},
   "outputs": [],
   "source": [
    "#create dataframe from read_csv method\n",
    "df = pd.read_csv(r\"D:\\KBTU\\2022-2023\\Python Course\\Course\\Lecture\\Lecture_3\\Apple_price_csv.csv\")\n",
    "print(df)"
   ]
  },
  {
   "cell_type": "code",
   "execution_count": null,
   "metadata": {},
   "outputs": [],
   "source": [
    "# with the date in datetime object\n",
    "\n",
    "df = pd.read_csv(r\"D:\\KBTU\\2022-2023\\Python Course\\Course\\Lecture\\Lecture_3\\Apple_price_csv.csv\" , \n",
    "                  parse_dates = ['Date'])\n",
    "print(type(df['Date'][0]))"
   ]
  },
  {
   "cell_type": "markdown",
   "metadata": {},
   "source": [
    "# Modify the dataframe"
   ]
  },
  {
   "cell_type": "code",
   "execution_count": null,
   "metadata": {
    "scrolled": true
   },
   "outputs": [],
   "source": [
    "# Change the column names (2 methods)\n",
    "df.columns = ['Date', 'Open_price', 'High_price', 'Low_price', 'Close_price', 'Adj Close', 'Volume']\n",
    "df = df.rename(columns = {'Date' : 'Date_time'})\n",
    "print(df)"
   ]
  },
  {
   "cell_type": "code",
   "execution_count": null,
   "metadata": {},
   "outputs": [],
   "source": [
    "#sort values\n",
    "df = df.sort_values('Open_price')\n",
    "print(df)"
   ]
  },
  {
   "cell_type": "code",
   "execution_count": null,
   "metadata": {},
   "outputs": [],
   "source": [
    "# Reset index of dataframe\n",
    "df = df.reset_index(drop = True)\n",
    "print(df)"
   ]
  },
  {
   "cell_type": "code",
   "execution_count": null,
   "metadata": {},
   "outputs": [],
   "source": [
    "#Use your own index: (set_index function)\n",
    "# df = df.set_index(['Date_time'])\n",
    "print(df)"
   ]
  },
  {
   "cell_type": "code",
   "execution_count": null,
   "metadata": {},
   "outputs": [],
   "source": [
    "# use several indexes\n",
    "df = df.set_index(['Date_time', 'Open_price'])\n",
    "print(df)"
   ]
  },
  {
   "cell_type": "code",
   "execution_count": null,
   "metadata": {},
   "outputs": [],
   "source": [
    "#Your TURN\n",
    "#Use your csv data to get your df and put dates as index (10 minutes)\n",
    "#break at 12:00\n",
    "df = pd.read_csv(r\"D:\\KBTU\\2022-2023\\Python Course\\Course\\Lecture\\Lecture_3\\Apple_price_csv.csv\" , \n",
    "                  parse_dates = ['Date'])\n",
    "# df = df.set_index(['Date'])\n",
    "print(df)"
   ]
  },
  {
   "cell_type": "code",
   "execution_count": null,
   "metadata": {},
   "outputs": [],
   "source": [
    "# Why indexes and not columns (use %timeit function)\n",
    "%timeit print('hi')"
   ]
  },
  {
   "cell_type": "code",
   "execution_count": null,
   "metadata": {},
   "outputs": [],
   "source": [
    "#display columns of dataframe (2 methods)\n",
    "%timeit a = df[df['Open'] == 28.057501]"
   ]
  },
  {
   "cell_type": "code",
   "execution_count": null,
   "metadata": {},
   "outputs": [],
   "source": [
    "%timeit a = df.loc[2]"
   ]
  },
  {
   "cell_type": "code",
   "execution_count": null,
   "metadata": {},
   "outputs": [],
   "source": [
    "#Adding a new columns to your DataFrame\n",
    "df['name'] = ['Gaetan' for i in range(0,1763)]\n",
    "df['surname'] = 'Chardon'\n",
    "print(df)"
   ]
  },
  {
   "cell_type": "code",
   "execution_count": null,
   "metadata": {},
   "outputs": [],
   "source": [
    "# Apply a function to your dataframe\n",
    "# df['2_times_open'] = df['Open'] * 2\n",
    "def my_function(x):\n",
    "    if x >170:\n",
    "        return x*2\n",
    "    else:\n",
    "        return x\n",
    "df['Open_modified'] = df['Open'].apply(my_function)\n",
    "print(df)"
   ]
  },
  {
   "cell_type": "code",
   "execution_count": null,
   "metadata": {},
   "outputs": [],
   "source": [
    "# iterate on a Dataframe\n",
    "for index, item in df.iterrows():\n",
    "    if index == 5:\n",
    "        print(item['Date'])"
   ]
  },
  {
   "cell_type": "code",
   "execution_count": null,
   "metadata": {},
   "outputs": [],
   "source": [
    "# Concatenate two dataframes\n",
    "df1 = pd.DataFrame ({\n",
    "        'Brand' : ['Coca', 'pepsi', 'Sprite', 'water'],\n",
    "        'Taste': [5, 6, 9, 8],\n",
    "        'Sugar_content' : ['high', 'high', 'high', 'low']\n",
    "                })\n",
    "df2 = pd.DataFrame ({\n",
    "        'Brand' : ['Coca', 'dfd', 'df', 'wsdgi'],\n",
    "        'Taste': [5, 5, 1, 0],\n",
    "        'Sugar_content' : ['high', 'medium', 'high', 'low']\n",
    "                })\n",
    "# print(df1, \"\\n\", df2)\n",
    "\n",
    "df = pd.concat([df1, df2])\n",
    "# print(df)\n",
    "df = df.reset_index(drop = True)\n",
    "print(df)"
   ]
  },
  {
   "cell_type": "code",
   "execution_count": null,
   "metadata": {},
   "outputs": [],
   "source": [
    "# Delete the duplicate drop_duplicates function (see doc)\n",
    "df = df.drop_duplicates()\n",
    "print(df)"
   ]
  },
  {
   "cell_type": "markdown",
   "metadata": {},
   "source": [
    "# Save the Dataframe"
   ]
  },
  {
   "cell_type": "code",
   "execution_count": null,
   "metadata": {},
   "outputs": [],
   "source": [
    "#Save it to excel\n",
    "writer = pd.ExcelWriter(r\"D:\\KBTU\\2022-2023\\Python Course\\Course\\Lecture\\Lecture_3\\df.xlsx\")\n",
    "df.to_excel(writer, 'DataFrame')\n",
    "writer.save()"
   ]
  },
  {
   "cell_type": "code",
   "execution_count": null,
   "metadata": {},
   "outputs": [],
   "source": [
    "#SAve it to csv\n",
    "df.to_csv(r\"D:\\KBTU\\2022-2023\\Python Course\\Course\\Lecture\\Lecture_3\\df.csv\", index = False)\n",
    "df = pd.read_csv(r\"D:\\KBTU\\2022-2023\\Python Course\\Course\\Lecture\\Lecture_3\\df.csv\")\n",
    "print(df)"
   ]
  },
  {
   "cell_type": "code",
   "execution_count": null,
   "metadata": {},
   "outputs": [],
   "source": [
    "# save it to json\n",
    "df.to_json(r\"D:\\KBTU\\2022-2023\\Python Course\\Course\\Lecture\\Lecture_3\\df.json\")"
   ]
  },
  {
   "cell_type": "markdown",
   "metadata": {},
   "source": [
    "# Useful functions"
   ]
  },
  {
   "cell_type": "code",
   "execution_count": null,
   "metadata": {},
   "outputs": [],
   "source": [
    "# Getting info about the dataframe\n",
    "print(df.info())"
   ]
  },
  {
   "cell_type": "code",
   "execution_count": null,
   "metadata": {},
   "outputs": [],
   "source": [
    "# Getting shapes of dataframe\n",
    "print(df.shape)"
   ]
  },
  {
   "cell_type": "code",
   "execution_count": null,
   "metadata": {},
   "outputs": [],
   "source": [
    "# description of the dataframe\n",
    "print(df.describe())"
   ]
  },
  {
   "cell_type": "code",
   "execution_count": null,
   "metadata": {},
   "outputs": [],
   "source": [
    "# Count similar values (.value_counts() method)\n",
    "print(df['Open'].value_counts())"
   ]
  },
  {
   "cell_type": "code",
   "execution_count": null,
   "metadata": {},
   "outputs": [],
   "source": [
    "# get correlation\n",
    "print(df.corr())"
   ]
  },
  {
   "cell_type": "markdown",
   "metadata": {},
   "source": [
    "# pip install matplotlib"
   ]
  },
  {
   "cell_type": "code",
   "execution_count": null,
   "metadata": {},
   "outputs": [],
   "source": [
    "# Quick plotting\n",
    "df.plot(x = 'Date', y = 'Open')\n",
    "#pip install matplotlib"
   ]
  },
  {
   "cell_type": "code",
   "execution_count": null,
   "metadata": {},
   "outputs": [],
   "source": [
    "#YOUR TURN \n",
    "#Plot the evolution of volume exchanged through the time of your csv file (10 minutes)\n",
    "# I will speak bout assignment at 12:45"
   ]
  }
 ],
 "metadata": {
  "kernelspec": {
   "display_name": "Python 3",
   "language": "python",
   "name": "python3"
  },
  "language_info": {
   "codemirror_mode": {
    "name": "ipython",
    "version": 3
   },
   "file_extension": ".py",
   "mimetype": "text/x-python",
   "name": "python",
   "nbconvert_exporter": "python",
   "pygments_lexer": "ipython3",
   "version": "3.8.3"
  }
 },
 "nbformat": 4,
 "nbformat_minor": 4
}
