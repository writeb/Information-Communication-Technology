{
 "cells": [
  {
   "cell_type": "code",
   "execution_count": null,
   "metadata": {},
   "outputs": [],
   "source": [
    "import pandas as pd"
   ]
  },
  {
   "cell_type": "code",
   "execution_count": null,
   "metadata": {},
   "outputs": [],
   "source": [
    "# 1.\tRead your .csv with pd.read_csv()\n",
    "# The goal of this first step is to get your csv file into a dataframe to use it with Python.\n",
    "# -\tUse the pandas function read_csv to read your .csv file \n",
    "# -\tAdd the option to automatically change the date to datetime object\n"
   ]
  },
  {
   "cell_type": "code",
   "execution_count": null,
   "metadata": {},
   "outputs": [],
   "source": [
    "df = pd.read_csv(r\"D:\\KBTU\\2022-2023\\Python Course\\Course\\Pratices\\Practice_1\\CAT.csv\", parse_dates = ['Date'])\n",
    "print(df)"
   ]
  },
  {
   "cell_type": "code",
   "execution_count": null,
   "metadata": {},
   "outputs": [],
   "source": [
    "# -\tAdd three columns (like practice 2):\n",
    "# o\t“Name” with your name (same for every line)\n",
    "# o\t“Surname” with your surname (same for every line)\n",
    "# o\t“Date_of_download” with the date of practice 1 (same for every line)\n"
   ]
  },
  {
   "cell_type": "code",
   "execution_count": null,
   "metadata": {},
   "outputs": [],
   "source": [
    "import datetime\n",
    "df['Name'] = 'Gaétan'\n",
    "df['Surname'] = 'Chardon'\n",
    "df['Date_of_download'] = datetime.datetime(year = 2022, month = 9, day = 8)\n",
    "print(df)"
   ]
  },
  {
   "cell_type": "code",
   "execution_count": null,
   "metadata": {},
   "outputs": [],
   "source": [
    "# 3.\tModify your dataframe\n",
    "# The goal of this third step is to get stock market variation instead of price. This will make all stocks to the same range. Later in this course, \n",
    "# we will try to predict the stock variation and not the stock price.\n",
    "# -\tCreate a new column called percentage_change. This column is the evolution of the open price of the stock from the previous opening price. \n"
   ]
  },
  {
   "cell_type": "code",
   "execution_count": null,
   "metadata": {},
   "outputs": [],
   "source": [
    "percentage_change = [0]\n",
    "for index, item in df.iterrows():\n",
    "    if index == 0:\n",
    "        continue\n",
    "    else:\n",
    "        if df['Open'][index] != 0:\n",
    "            percentage_change.append( (df['Open'][index] - df['Open'][index-1])/ df['Open'][index] *100)\n",
    "        else:\n",
    "            percentage_change.append(0)\n",
    "\n",
    "# print(percentage_change)\n",
    "\n",
    "df['Percentage_change'] = percentage_change\n",
    "print(df)"
   ]
  },
  {
   "cell_type": "code",
   "execution_count": null,
   "metadata": {},
   "outputs": [],
   "source": [
    "# 4.\tSave your dataframe to json\n",
    "# The goal of this fourth step is to save and share your data with other students.\n",
    "# -\tSave your dataframe in JSON format\n",
    "# -\tReopen your dataframe to validate than the dataframe is the same\n",
    "# -\tRename your JSON file with the symbol of the company\n",
    "# -\tUpload your file on the shared folder: https://drive.google.com/drive/folders/1I9PAswCIzcpNeOM-N6nWXEf4MgqxWp-w?usp=sharing\n"
   ]
  },
  {
   "cell_type": "code",
   "execution_count": null,
   "metadata": {},
   "outputs": [],
   "source": [
    "df.to_json(r\"D:\\KBTU\\2022-2023\\Python Course\\Course\\Pratices\\Practice_1\\CAT.json\", date_format = 'iso')"
   ]
  },
  {
   "cell_type": "code",
   "execution_count": null,
   "metadata": {},
   "outputs": [],
   "source": [
    "df_loaded = pd.read_json(r\"D:\\KBTU\\2022-2023\\Python Course\\Course\\Pratices\\Practice_1\\CAT.json\")\n",
    "print(df)"
   ]
  },
  {
   "cell_type": "code",
   "execution_count": null,
   "metadata": {},
   "outputs": [],
   "source": []
  }
 ],
 "metadata": {
  "kernelspec": {
   "display_name": "Python 3",
   "language": "python",
   "name": "python3"
  },
  "language_info": {
   "codemirror_mode": {
    "name": "ipython",
    "version": 3
   },
   "file_extension": ".py",
   "mimetype": "text/x-python",
   "name": "python",
   "nbconvert_exporter": "python",
   "pygments_lexer": "ipython3",
   "version": "3.8.3"
  }
 },
 "nbformat": 4,
 "nbformat_minor": 4
}
