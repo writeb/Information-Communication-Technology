{
 "cells": [
  {
   "cell_type": "markdown",
   "metadata": {},
   "source": [
    "# Web scrapping"
   ]
  },
  {
   "cell_type": "markdown",
   "metadata": {},
   "source": [
    "## Scrapping directly a document"
   ]
  },
  {
   "cell_type": "code",
   "execution_count": null,
   "metadata": {},
   "outputs": [],
   "source": [
    "#import request library\n",
    "import requests\n",
    "print(requests.__version__)"
   ]
  },
  {
   "cell_type": "code",
   "execution_count": null,
   "metadata": {},
   "outputs": [],
   "source": [
    "# Create a request\n",
    "url = \"https://console.python.org/python-dot-org-live-consoles-status\"\n",
    "resp = requests.get(url)\n",
    "print(resp.content)"
   ]
  },
  {
   "cell_type": "code",
   "execution_count": null,
   "metadata": {},
   "outputs": [],
   "source": [
    "#YOUR TURN\n",
    "# reproduce a request\n",
    "#any website => open inspect tool => network tool => choose a request (html, josn, png, ...) => reproduce it with python\n",
    "#10 minutes 11:30"
   ]
  },
  {
   "cell_type": "code",
   "execution_count": null,
   "metadata": {},
   "outputs": [],
   "source": [
    "#Create a headers to get better result\n",
    "#use the header from the \"inspect\" tool\n",
    "headers = {'user-agent' : 'Mozilla/5.0 (Windows NT 10.0; Win64; x64; rv:105.0) Gecko/20100101 Firefox/105.0'}\n",
    "resp = requests.get(url, headers = headers)\n",
    "print(resp.content)"
   ]
  },
  {
   "cell_type": "code",
   "execution_count": null,
   "metadata": {},
   "outputs": [],
   "source": [
    "#YOUR TURN\n",
    "#identify you headers of your web browser and use them to access to a website\n",
    "#5 minutes => 11:35"
   ]
  },
  {
   "cell_type": "code",
   "execution_count": null,
   "metadata": {},
   "outputs": [],
   "source": [
    "#Let's try with yahoo finance website  \n",
    "url = \"https://query1.finance.yahoo.com/v7/finance/download/MSFT?period1=1633376171&period2=1664912171&interval=1d&events=history&includeAdjustedClose=true\"\n",
    "headers = {'user-agent' : 'Mozilla/5.0 (Windows NT 10.0; Win64; x64; rv:105.0) Gecko/20100101 Firefox/105.0'}\n",
    "resp = requests.get(url, headers = headers)\n",
    "print(resp.content)"
   ]
  },
  {
   "cell_type": "code",
   "execution_count": null,
   "metadata": {},
   "outputs": [],
   "source": [
    "#YOUR TURN\n",
    "#Try to get your own stock csv\n",
    "#Yahoo finance => Stock page => Historical tab => Inspect => Download => find requests\n",
    "#10 minutes = > 11:50"
   ]
  },
  {
   "cell_type": "code",
   "execution_count": null,
   "metadata": {
    "scrolled": false
   },
   "outputs": [],
   "source": [
    "#Finding the time period\n",
    "# url = \"https://query1.finance.yahoo.com/v7/finance/download/TSLA?period1=1633376171&period2=1664912171&interval=1d&events=history&includeAdjustedClose=true\"\n",
    "# resp = requests.get(url, headers= headers )\n",
    "#print(resp.content)\n",
    "# 1633376171 => 2021-10-04\n",
    "print(1633376171 / 3600 /24/365)\n",
    "# 0 => 1/1/1970"
   ]
  },
  {
   "cell_type": "code",
   "execution_count": null,
   "metadata": {},
   "outputs": [],
   "source": [
    "#Automatize date choice\n",
    "import datetime\n",
    "origin = datetime.datetime(1970,1,1)\n",
    "begin = datetime.datetime(2000,1,5)\n",
    "delta = begin -origin\n",
    "print(delta.total_seconds())"
   ]
  },
  {
   "cell_type": "code",
   "execution_count": null,
   "metadata": {},
   "outputs": [],
   "source": [
    "#Choose your own dates\n",
    "origin = datetime.datetime(1970,1,1)\n",
    "begin = datetime.datetime(1971,1,5)\n",
    "delta = begin -origin\n",
    "delta = delta.total_seconds()\n",
    "\n",
    "params = {'period1': str(int(delta)),'period2': '1664912171','interval':'1d','events':'history','includeAdjustedClose':'true'}\n",
    "url = \"https://query1.finance.yahoo.com/v7/finance/download/MSFT\"\n",
    "headers = {'user-agent' : 'Mozilla/5.0 (Windows NT 10.0; Win64; x64; rv:105.0) Gecko/20100101 Firefox/105.0'}\n",
    "resp = requests.get(url, headers = headers, params = params)\n",
    "print(resp.content)"
   ]
  },
  {
   "cell_type": "code",
   "execution_count": null,
   "metadata": {},
   "outputs": [],
   "source": [
    "#YOUR TURN\n",
    "#get your csv file from practice 1 with a python resquest with another date\n",
    "#10 minutes\n",
    "#12:30"
   ]
  },
  {
   "cell_type": "markdown",
   "metadata": {},
   "source": [
    "# Scrapping a page"
   ]
  },
  {
   "cell_type": "code",
   "execution_count": null,
   "metadata": {},
   "outputs": [],
   "source": [
    "#Get the html file with a query on google news\n"
   ]
  },
  {
   "cell_type": "code",
   "execution_count": null,
   "metadata": {
    "scrolled": true
   },
   "outputs": [],
   "source": [
    "# Extracting news data on company with BeautifulSoup\n",
    "from bs4 import BeautifulSoup\n",
    "import requests\n",
    "\n",
    "#Use the url found with private browser\n",
    "headers = {'User-Agent': 'Mozilla/5.0 (Windows NT 10.0; Win64; x64; rv:104.0) Gecko/20100101 Firefox/104.0', 'Accept-Language' : 'en-GB,en;q=0.5'}\n",
    "page = requests.get('https://news.google.com/search?q=tesla&hl=en-US&gl=US&ceid=US%3Aen',\n",
    "                    headers = headers)\n",
    "print(page.content)\n",
    "bs = BeautifulSoup(page.content)\n"
   ]
  },
  {
   "cell_type": "code",
   "execution_count": null,
   "metadata": {},
   "outputs": [],
   "source": [
    "#Display info \n",
    "#Docs at : https://www.crummy.com/software/BeautifulSoup/bs4/doc/\n",
    "# print(bs.prettify())"
   ]
  },
  {
   "cell_type": "code",
   "execution_count": null,
   "metadata": {},
   "outputs": [],
   "source": [
    "#YOUR TURN\n",
    "#Identify all url of the news about your stock\n",
    "# 10 minutes\n"
   ]
  },
  {
   "cell_type": "markdown",
   "metadata": {},
   "source": [
    "# Browser-based scrapping : Selenium"
   ]
  },
  {
   "cell_type": "code",
   "execution_count": null,
   "metadata": {},
   "outputs": [],
   "source": [
    "#import the package\n",
    "from selenium import webdriver\n",
    "from selenium.webdriver.common.keys import Keys\n",
    "from selenium.webdriver.common.by import By"
   ]
  },
  {
   "cell_type": "code",
   "execution_count": null,
   "metadata": {},
   "outputs": [],
   "source": [
    "#Download geckodriver from here : https://github.com/mozilla/geckodriver/releases\n",
    "#Unzip it\n",
    "#Add the path to geckodriver folder to the system path"
   ]
  },
  {
   "cell_type": "code",
   "execution_count": null,
   "metadata": {
    "scrolled": true
   },
   "outputs": [],
   "source": [
    "#Create your browser\n",
    "browser = webdriver.Firefox()  \n",
    "#open the required page\n",
    "browser.get(\"https://www.python.org\")\n",
    "browser.maximize_window()"
   ]
  },
  {
   "cell_type": "code",
   "execution_count": null,
   "metadata": {
    "scrolled": true
   },
   "outputs": [],
   "source": [
    "#print some information\n",
    "print(browser.title)"
   ]
  },
  {
   "cell_type": "code",
   "execution_count": null,
   "metadata": {},
   "outputs": [],
   "source": [
    "#Fin the research bar and write in it\n",
    "search_bar = browser.find_element(By.NAME, \"q\")\n",
    "search_bar.clear()\n",
    "search_bar.send_keys(\"getting started with python\")\n"
   ]
  },
  {
   "cell_type": "code",
   "execution_count": null,
   "metadata": {},
   "outputs": [],
   "source": [
    "#Run the research\n",
    "search_bar.send_keys(Keys.RETURN)"
   ]
  },
  {
   "cell_type": "code",
   "execution_count": null,
   "metadata": {},
   "outputs": [],
   "source": []
  }
 ],
 "metadata": {
  "kernelspec": {
   "display_name": "Python 3.10.4 64-bit",
   "language": "python",
   "name": "python3"
  },
  "language_info": {
   "codemirror_mode": {
    "name": "ipython",
    "version": 3
   },
   "file_extension": ".py",
   "mimetype": "text/x-python",
   "name": "python",
   "nbconvert_exporter": "python",
   "pygments_lexer": "ipython3",
   "version": "3.10.4"
  },
  "vscode": {
   "interpreter": {
    "hash": "aee8b7b246df8f9039afb4144a1f6fd8d2ca17a180786b69acc140d282b71a49"
   }
  }
 },
 "nbformat": 4,
 "nbformat_minor": 4
}
