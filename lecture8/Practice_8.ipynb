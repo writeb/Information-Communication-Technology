{
 "cells": [
  {
   "cell_type": "markdown",
   "metadata": {},
   "source": [
    "# Practice 8: data cleaning"
   ]
  },
  {
   "cell_type": "code",
   "execution_count": null,
   "metadata": {},
   "outputs": [],
   "source": [
    "import pandas as pd\n",
    "import numpy as np"
   ]
  },
  {
   "cell_type": "markdown",
   "metadata": {},
   "source": [
    "# Step 1"
   ]
  },
  {
   "cell_type": "code",
   "execution_count": null,
   "metadata": {},
   "outputs": [],
   "source": [
    "#Load the whole dataframe and print it\n",
    "df = pd.read_parquet(r\"D:\\KBTU\\2022-2023\\Python Course\\Course\\Pratices\\Practice_8\\usb_file\\df_final_US_EUR.parquet\")\n",
    "print(df)"
   ]
  },
  {
   "cell_type": "code",
   "execution_count": null,
   "metadata": {},
   "outputs": [],
   "source": [
    "#Select one company\n",
    "df_sel = df[df['Name'] == 'GOOGL'].reset_index(drop = True)\n",
    "print(df_sel)"
   ]
  },
  {
   "cell_type": "markdown",
   "metadata": {},
   "source": [
    "# Step 2"
   ]
  },
  {
   "cell_type": "code",
   "execution_count": null,
   "metadata": {},
   "outputs": [],
   "source": [
    "\n",
    "for k in df_sel.columns[1:6]:\n",
    "    print(k)\n",
    "    perc = []\n",
    "    for index, line in df_sel.iterrows():\n",
    "        if index == 0:\n",
    "            perc.append(np.nan)\n",
    "        else:\n",
    "            perc.append((line[k] - df_sel.loc[index-1, k])/line[k] *100)\n",
    "    df_sel['Perc_change_' +k] = perc\n",
    "print(df_sel)"
   ]
  },
  {
   "cell_type": "markdown",
   "metadata": {},
   "source": []
  }
 ],
 "metadata": {
  "kernelspec": {
   "display_name": "Python 3",
   "language": "python",
   "name": "python3"
  },
  "language_info": {
   "codemirror_mode": {
    "name": "ipython",
    "version": 3
   },
   "file_extension": ".py",
   "mimetype": "text/x-python",
   "name": "python",
   "nbconvert_exporter": "python",
   "pygments_lexer": "ipython3",
   "version": "3.8.3"
  }
 },
 "nbformat": 4,
 "nbformat_minor": 4
}
