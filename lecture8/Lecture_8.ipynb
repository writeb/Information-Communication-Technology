{
 "cells": [
  {
   "cell_type": "markdown",
   "metadata": {},
   "source": [
    "# Correction of practice 7"
   ]
  },
  {
   "cell_type": "code",
   "execution_count": null,
   "metadata": {},
   "outputs": [],
   "source": [
    "import csv\n",
    "import pandas as pd"
   ]
  },
  {
   "cell_type": "code",
   "execution_count": null,
   "metadata": {
    "scrolled": true
   },
   "outputs": [],
   "source": [
    "all_sym = []\n",
    "with open(r\"D:\\KBTU\\2022-2023\\Python Course\\Course\\Pratices\\Practice_7\\list_symbols_euronext.csv\", 'r') as file:\n",
    "    csvfile = csv.reader(file)\n",
    "    for row in csvfile:\n",
    "#         for i in row:\n",
    "#             all_sym.append(i)\n",
    "        all_sym = all_sym + row\n",
    "#         print(row)\n",
    "        break\n",
    "print(len(all_sym))"
   ]
  },
  {
   "cell_type": "code",
   "execution_count": null,
   "metadata": {},
   "outputs": [],
   "source": [
    "with open(r\"D:\\KBTU\\2022-2023\\Python Course\\Course\\Pratices\\Practice_7\\list_symbols_US.csv\", 'r') as file:\n",
    "    csvfile = csv.reader(file)\n",
    "    for row in csvfile:\n",
    "#         for i in row:\n",
    "#             all_sym.append(i)\n",
    "        all_sym = all_sym + row\n",
    "#         print(row)\n",
    "        break\n",
    "print(len(all_sym))"
   ]
  },
  {
   "cell_type": "code",
   "execution_count": null,
   "metadata": {},
   "outputs": [],
   "source": [
    "list_df = []\n",
    "for i in all_sym[:10]:\n",
    "    print(i)\n",
    "    try:\n",
    "        df = pd.read_csv(\"https://query1.finance.yahoo.com/v7/finance/download/\"+ i +\"?period1=0&period2=1661904000&interval=1d&events=history&includeAdjustedClose=true\")\n",
    "        df['SYM'] = i\n",
    "        list_df.append(df)\n",
    "    except:\n",
    "        print('error')\n"
   ]
  },
  {
   "cell_type": "code",
   "execution_count": null,
   "metadata": {
    "scrolled": true
   },
   "outputs": [],
   "source": [
    "df_final = pd.concat(list_df, ignore_index = True)\n",
    "print(df_final)"
   ]
  },
  {
   "cell_type": "code",
   "execution_count": null,
   "metadata": {},
   "outputs": [],
   "source": [
    "df_final.to_csv(r\"D:\\KBTU\\2022-2023\\Python Course\\Course\\Pratices\\Practice_7\\the_csv_version.csv\")"
   ]
  },
  {
   "cell_type": "code",
   "execution_count": null,
   "metadata": {},
   "outputs": [],
   "source": [
    "df_final.to_parquet(r\"D:\\KBTU\\2022-2023\\Python Course\\Course\\Pratices\\Practice_7\\the_parquet_version.parquet\")"
   ]
  },
  {
   "cell_type": "markdown",
   "metadata": {},
   "source": [
    "# Lecture 8: Graphs"
   ]
  },
  {
   "cell_type": "code",
   "execution_count": null,
   "metadata": {},
   "outputs": [],
   "source": [
    "#import\n",
    "import pandas as pd\n"
   ]
  },
  {
   "cell_type": "code",
   "execution_count": null,
   "metadata": {},
   "outputs": [],
   "source": [
    "#load our data\n",
    "#pip install : pyarrow and fastparquet\n",
    "df_origin = pd.read_parquet(r\"D:\\KBTU\\2022-2023\\Python Course\\Course\\Lecture\\Lecture_8\\df_final_US_EUR.parquet\")"
   ]
  },
  {
   "cell_type": "code",
   "execution_count": null,
   "metadata": {},
   "outputs": [],
   "source": [
    "#print our data\n",
    "print(df_origin)"
   ]
  },
  {
   "cell_type": "code",
   "execution_count": null,
   "metadata": {},
   "outputs": [],
   "source": [
    "#Select only a part of the data and reset_index (drop = True)\n",
    "df = df_origin[df_origin['Name'] == 'GOOGL'].copy()\n",
    "df.reset_index(drop = True, inplace = True)\n",
    "print(df)"
   ]
  },
  {
   "cell_type": "code",
   "execution_count": null,
   "metadata": {},
   "outputs": [],
   "source": [
    "#install packages:\n",
    "#pip install matplotlib\n",
    "#pip install seaborn"
   ]
  },
  {
   "cell_type": "code",
   "execution_count": null,
   "metadata": {},
   "outputs": [],
   "source": [
    "#Make you first plot without x axis (default is index)\n",
    "#import matplotlib.pyplot as plt\n",
    "#plt.show()\n",
    "df.plot(y = 'Open')"
   ]
  },
  {
   "cell_type": "code",
   "execution_count": null,
   "metadata": {},
   "outputs": [],
   "source": [
    "#you can also use another column as x axis\n",
    "df.plot(x = 'Date', y = 'Close')"
   ]
  },
  {
   "cell_type": "code",
   "execution_count": null,
   "metadata": {
    "scrolled": true
   },
   "outputs": [],
   "source": [
    "#You can select a smaller amount of data\n",
    "import datetime\n",
    "df_small = df[df['Date'] > datetime.datetime(2022,8,1)]"
   ]
  },
  {
   "cell_type": "code",
   "execution_count": null,
   "metadata": {},
   "outputs": [],
   "source": [
    "#use the bar kind\n",
    "#use the kind attribute\n",
    "df_small.plot(kind = 'bar', x = 'Date', y = 'Volume')"
   ]
  },
  {
   "cell_type": "code",
   "execution_count": null,
   "metadata": {},
   "outputs": [],
   "source": [
    "#use the horizontal bar kind\n",
    "df_small.plot(kind = 'barh', x = 'Date', y = 'Volume')"
   ]
  },
  {
   "cell_type": "code",
   "execution_count": null,
   "metadata": {},
   "outputs": [],
   "source": [
    "# use the histogram\n",
    "df_small.plot(kind = 'hist', y = ['Open', 'Close'])"
   ]
  },
  {
   "cell_type": "code",
   "execution_count": null,
   "metadata": {},
   "outputs": [],
   "source": [
    "# use the boxplot (kind  = 'box')\n",
    "df_small.plot(kind = 'box', y = ['Open', 'Close'])"
   ]
  },
  {
   "cell_type": "code",
   "execution_count": null,
   "metadata": {},
   "outputs": [],
   "source": [
    "# use the area\n",
    "df_small.plot(kind = 'area', y = ['Open', 'Close'])"
   ]
  },
  {
   "cell_type": "code",
   "execution_count": null,
   "metadata": {
    "scrolled": false
   },
   "outputs": [],
   "source": [
    "#the scatter version\n",
    "df_small.plot(kind = 'scatter', x = 'Close', y = 'Open')"
   ]
  },
  {
   "cell_type": "code",
   "execution_count": null,
   "metadata": {},
   "outputs": [],
   "source": [
    "#YOUR TURN (15 minutes)(with my parquet file install pyarrow and fastparquet package first)\n",
    "#) or any csv data (price))\n",
    "#%matplotlib inline\n",
    "#Draw the evolution of the volume with the date in line\n",
    "#Draw the scatter plot of the volume in function of the Open price\n",
    "#import matplotlib.pyplot as plt\n",
    "#plt.show()"
   ]
  },
  {
   "cell_type": "code",
   "execution_count": null,
   "metadata": {},
   "outputs": [],
   "source": [
    "df.plot(x = 'Date', y = 'Volume')\n",
    "df.plot(kind = 'scatter', x = 'Open', y = 'Volume')"
   ]
  },
  {
   "cell_type": "code",
   "execution_count": null,
   "metadata": {},
   "outputs": [],
   "source": [
    "# Add column:\n",
    "#percentage change for 'Open'\n",
    "#('open'[dayi] - 'open'[dayi-1]) / 'open'[dayi] *100\n",
    "col = ['Open', 'High', 'Low', 'Close', 'Volume']\n",
    "for c in col:\n",
    "    perc = []\n",
    "    for index, line in df.iterrows():\n",
    "        if index == 0:\n",
    "            perc.append(0)\n",
    "        else:\n",
    "            perc.append( (line[c] - df.loc[index-1, c])/line[c] *100)\n",
    "\n",
    "    df['perc_'+c] = perc\n",
    "print(df)"
   ]
  },
  {
   "cell_type": "code",
   "execution_count": null,
   "metadata": {},
   "outputs": [],
   "source": [
    "#YOUR TURN (10 minutes)\n",
    "#Add the percentage change for all prices column and the volume\n"
   ]
  },
  {
   "cell_type": "code",
   "execution_count": null,
   "metadata": {},
   "outputs": [],
   "source": [
    "#print the link between datas (ex: perc or volume)\n",
    "df.plot(kind = 'scatter', x = 'Date', y = 'perc_Open')\n",
    "df.plot(kind = 'scatter', x = 'perc_Close', y = 'perc_Open')\n",
    "df.plot(kind = 'scatter', x = 'Close', y = 'Open')"
   ]
  },
  {
   "cell_type": "code",
   "execution_count": null,
   "metadata": {},
   "outputs": [],
   "source": [
    "#Use matplotlib also\n",
    "#https://matplotlib.org one of the most famous package to plot\n",
    "# the command : \"%matplotlib inline\" may be necessary\n",
    "import matplotlib.pyplot as plt"
   ]
  },
  {
   "cell_type": "code",
   "execution_count": null,
   "metadata": {},
   "outputs": [],
   "source": [
    "#create a figure with subplots and scatter\n",
    "fig, ax = plt.subplots(3)\n",
    "ax[0].plot(df['Date'], df['perc_Open'])\n",
    "ax[1].plot(df['Date'], df['perc_High'])\n",
    "ax[2].plot(df['Date'], df['perc_Low'])\n",
    "plt.show()"
   ]
  },
  {
   "cell_type": "code",
   "execution_count": null,
   "metadata": {},
   "outputs": [],
   "source": [
    "#Create a figure with plot\n",
    "fig, ax = plt.subplots(3)\n",
    "ax[0].scatter(df['Date'], df['perc_Open'], marker = 'x')\n",
    "ax[1].plot(df['Date'], df['perc_High'], linewidth = 1)\n",
    "ax[2].plot(df['Date'], df['perc_Low'], color = 'red')\n",
    "plt.show()"
   ]
  },
  {
   "cell_type": "code",
   "execution_count": null,
   "metadata": {
    "scrolled": true
   },
   "outputs": [],
   "source": [
    "#Is the volume and the perc of change are linked? And the perc and the voume of the day before?\n",
    "fig, ax = plt.subplots()\n",
    "ax.scatter(df['perc_Open'], df['Volume'], marker = '+')\n",
    "plt.show()"
   ]
  },
  {
   "cell_type": "code",
   "execution_count": null,
   "metadata": {},
   "outputs": [],
   "source": [
    "#Seaborn to draw plots\n",
    "#https://seaborn.pydata.org/\n",
    "import seaborn as sns\n"
   ]
  },
  {
   "cell_type": "code",
   "execution_count": null,
   "metadata": {},
   "outputs": [],
   "source": [
    "#draw your first plot, use data = df and the relplot() function, use linewidth to change the white order\n",
    "sns.relplot(data = df, x = 'Date', y = 'perc_Volume', linewidth = 0)"
   ]
  },
  {
   "cell_type": "code",
   "execution_count": null,
   "metadata": {},
   "outputs": [],
   "source": [
    "#Change min et max (ylim)\n",
    "sns.relplot(data = df, x = 'perc_Open', y = 'perc_Volume', hue = 'perc_Close')\n",
    "plt.ylim(-50,50)\n",
    "plt.show()"
   ]
  },
  {
   "cell_type": "code",
   "execution_count": null,
   "metadata": {},
   "outputs": [],
   "source": [
    "#another style with the set_style function\n",
    "#list of style: https://seaborn.pydata.org/tutorial/aesthetics.html#seaborn-figure-styles\n"
   ]
  },
  {
   "cell_type": "code",
   "execution_count": null,
   "metadata": {},
   "outputs": [],
   "source": []
  }
 ],
 "metadata": {
  "kernelspec": {
   "display_name": "Python 3",
   "language": "python",
   "name": "python3"
  },
  "language_info": {
   "codemirror_mode": {
    "name": "ipython",
    "version": 3
   },
   "file_extension": ".py",
   "mimetype": "text/x-python",
   "name": "python",
   "nbconvert_exporter": "python",
   "pygments_lexer": "ipython3",
   "version": "3.8.3"
  }
 },
 "nbformat": 4,
 "nbformat_minor": 4
}
