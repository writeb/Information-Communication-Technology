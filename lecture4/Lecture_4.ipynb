{
 "cells": [
  {
   "cell_type": "markdown",
   "metadata": {},
   "source": [
    "# API"
   ]
  },
  {
   "cell_type": "code",
   "execution_count": null,
   "metadata": {},
   "outputs": [],
   "source": [
    "#install the requests package: pip install requests"
   ]
  },
  {
   "cell_type": "code",
   "execution_count": null,
   "metadata": {},
   "outputs": [],
   "source": [
    "#Import the package requests\n",
    "import requests\n",
    "print(requests.__version__)"
   ]
  },
  {
   "cell_type": "code",
   "execution_count": null,
   "metadata": {},
   "outputs": [],
   "source": [
    "#Calling the API of randomuser.me website (address is \"https://randomuser.me/api/\")\n",
    "response = requests.get(\"https://randomuser.me/api/\")\n",
    "print(response)"
   ]
  },
  {
   "cell_type": "code",
   "execution_count": null,
   "metadata": {
    "scrolled": true
   },
   "outputs": [],
   "source": [
    "#Check the text in the response\n",
    "print(response.text)"
   ]
  },
  {
   "cell_type": "code",
   "execution_count": null,
   "metadata": {},
   "outputs": [],
   "source": [
    "#The dog API connection (https://api.thedogapi.com/)\n",
    "response = requests.get(\"https://api.thedogapi.com/\")\n",
    "print(response.text)"
   ]
  },
  {
   "cell_type": "code",
   "execution_count": null,
   "metadata": {
    "scrolled": true
   },
   "outputs": [],
   "source": [
    "#Connecting to an Endpoint\n",
    "response = requests.get(\"https://api.thedogapi.com/v1/breeds\")\n",
    "print(response.text)"
   ]
  },
  {
   "cell_type": "code",
   "execution_count": null,
   "metadata": {},
   "outputs": [],
   "source": [
    "# YOUR TURN\n",
    "# Connect to TheCatApi through the url : https://api.thecatapi.com/ \n",
    "# Check in the documentation how to get a random picture of a cat\n",
    "# Make the calling and print the text of the answer\n",
    "#10 minutes\n",
    "\n",
    "resp = requests.get(\"https://api.thecatapi.com/v1/images/search\")\n",
    "print(resp.text)"
   ]
  },
  {
   "cell_type": "code",
   "execution_count": null,
   "metadata": {
    "scrolled": true
   },
   "outputs": [],
   "source": [
    "#Some information about a request\n",
    "#response.request\n",
    "#.url\n",
    "#.path_url\n",
    "#.method\n",
    "#.headers\n",
    "\n",
    "resp = requests.get(\"https://api.thecatapi.com/v1/images/search\")\n",
    "print(resp.request)\n",
    "print(resp.request.url)\n",
    "print(resp.request.path_url)\n",
    "print(resp.request.method)\n",
    "print(resp.request.headers)"
   ]
  },
  {
   "cell_type": "code",
   "execution_count": 2,
   "metadata": {},
   "outputs": [
    {
     "name": "stdout",
     "output_type": "stream",
     "text": [
      "https://api.thecatapi.com/v1/images/search\n",
      "200\n",
      "OK\n",
      "{'x-dns-prefetch-control': 'off', 'x-frame-options': 'SAMEORIGIN', 'strict-transport-security': 'max-age=15552000; includeSubDomains', 'x-download-options': 'noopen', 'x-content-type-options': 'nosniff', 'x-xss-protection': '1; mode=block', 'vary': 'Origin', 'expires': 'Tue, 03 Jul 2001 06:00:00 GMT', 'last-modified': 'Sat Dec 24 2022 13:22:45 GMT+0000 (Coordinated Universal Time)', 'cache-control': 'post-check=0, pre-check=0', 'authenticated': 'false', 'content-type': 'application/json; charset=utf-8', 'x-response-time': '68ms', 'X-Cloud-Trace-Context': '911729bc03909f116f7d06867707b7d8', 'Date': 'Sat, 24 Dec 2022 13:22:45 GMT', 'Server': 'Google Frontend', 'Content-Length': '89'}\n"
     ]
    }
   ],
   "source": [
    "#Some information about a response\n",
    "#.text\n",
    "#.status_code\n",
    "#.reason\n",
    "#.headers\n",
    "import requests\n",
    "resp = requests.get(\"https://api.thecatapi.com/v1/images/search\")\n",
    "print(resp.url)\n",
    "print(resp.status_code)\n",
    "print(resp.reason)\n",
    "print(resp.headers)"
   ]
  },
  {
   "cell_type": "code",
   "execution_count": 3,
   "metadata": {},
   "outputs": [
    {
     "name": "stdout",
     "output_type": "stream",
     "text": [
      "<Response [404]>\n"
     ]
    }
   ],
   "source": [
    "#Let's get other response than 200\n",
    "\n",
    "resp = requests.get(\"https://api.thecatapi.com/images/searc\")\n",
    "print(resp)"
   ]
  },
  {
   "cell_type": "code",
   "execution_count": null,
   "metadata": {
    "scrolled": false
   },
   "outputs": [],
   "source": [
    "#check headers of the response and the request\n",
    "\n",
    "resp = requests.get(\"https://api.thecatapi.com/v1/images/search\")"
   ]
  },
  {
   "cell_type": "code",
   "execution_count": null,
   "metadata": {},
   "outputs": [],
   "source": [
    "#Print headers of server and client\n",
    "print(resp.request.headers)\n",
    "print(resp.headers)"
   ]
  },
  {
   "cell_type": "code",
   "execution_count": null,
   "metadata": {},
   "outputs": [],
   "source": [
    "#Create your own headers\n",
    "#make a request with your own headers\n",
    "headers = {'User-Agent' : 'Mozilla/5.0 (Windows NT 10.0; Win64; x64; rv:104.0) Gecko/20100101 Firefox/104.0'}\n",
    "url = 'https://api.thecatapi.com/v1/images/search'\n",
    "resp = requests.get(url, headers = headers)\n",
    "print(resp.request.headers)"
   ]
  },
  {
   "cell_type": "code",
   "execution_count": null,
   "metadata": {},
   "outputs": [],
   "source": [
    "headers = {'User-Agent' : 'Mozilla/5.0 (Windows NT 10.0; Win64; x64; rv:104.0) Gecko/20100101 Firefox/104.0'}\n",
    "url = 'https://cdn2.thecatapi.com/images/d8k.jpg'\n",
    "resp = requests.get(url, headers = headers)\n",
    "print(resp.headers)"
   ]
  },
  {
   "cell_type": "code",
   "execution_count": null,
   "metadata": {},
   "outputs": [],
   "source": [
    "#The differents methods of the response\n",
    "headers = {'User-Agent' : 'Mozilla/5.0 (Windows NT 10.0; Win64; x64; rv:104.0) Gecko/20100101 Firefox/104.0'}\n",
    "url = 'https://api.thecatapi.com/v1/images/search'\n",
    "resp = requests.get(url, headers = headers)\n",
    "resp_json = resp.json()\n",
    "print(resp_json[0]['url'])"
   ]
  },
  {
   "cell_type": "code",
   "execution_count": null,
   "metadata": {},
   "outputs": [],
   "source": [
    "#The different content type\n",
    "url = 'https://api.thecatapi.com/v1/images/search'\n",
    "resp = requests.delete(url)\n",
    "print(resp)"
   ]
  },
  {
   "cell_type": "code",
   "execution_count": null,
   "metadata": {},
   "outputs": [],
   "source": [
    "#Request an image\n",
    "url = 'https://cdn2.thecatapi.com/images/250.jpg'\n",
    "resp = requests.get(url)\n",
    "print(resp.content)"
   ]
  },
  {
   "cell_type": "code",
   "execution_count": null,
   "metadata": {},
   "outputs": [],
   "source": [
    "#Save the image\n",
    "with open(r\"D:\\KBTU\\2022-2023\\Python Course\\Course\\Lecture\\Lecture_4\\cute_cat.jpg\", 'wb') as file:\n",
    "    file.write(resp.content)\n",
    "    "
   ]
  },
  {
   "cell_type": "code",
   "execution_count": null,
   "metadata": {},
   "outputs": [],
   "source": [
    "#The use of a query parameter to specify your request\n",
    "url = \"https://randomuser.me/api?gender=male\"\n",
    "resp = requests.get(url)\n",
    "print(resp.text)"
   ]
  },
  {
   "cell_type": "code",
   "execution_count": null,
   "metadata": {},
   "outputs": [],
   "source": [
    "# YOUR TURN\n",
    "# Use the api for rendomuser.me to generat only male from nat : 'FR'\n",
    "# 10 minutes\n",
    "url = \"https://randomuser.me/api?gender=male&nat=FR\"\n",
    "resp = requests.get(url)\n",
    "print(resp.text)"
   ]
  },
  {
   "cell_type": "code",
   "execution_count": null,
   "metadata": {
    "scrolled": true
   },
   "outputs": [],
   "source": [
    "#use a dictionary to for query parameters\n",
    "headers = {'User-Agent' : 'Mozilla/5.0 (Windows NT 10.0; Win64; x64; rv:104.0) Gecko/20100101 Firefox/104.0'}\n",
    "dictio = {\n",
    "    'gender' : 'male', \n",
    "    'nat' : 'FR'\n",
    "}\n",
    "url = \"https://randomuser.me/api\"\n",
    "resp = requests.get(url, params = dictio, headers = headers)\n",
    "print(resp.text)"
   ]
  },
  {
   "cell_type": "code",
   "execution_count": null,
   "metadata": {
    "scrolled": false
   },
   "outputs": [],
   "source": [
    "#Make a request to nasa website for image with the DEMO_KEY\n",
    "#endpoint is : https://api.nasa.gov/mars-photos/api/v1/rovers/curiosity/photos\n",
    "# use also a query parameter : \"earth_date\": \"2020-07-01\"\n",
    "query_param = {\n",
    "    \"api_key\" : \"DEMO_KEY\",\n",
    "    \"earth_date\": \"2020-07-01\"\n",
    "}\n",
    "\n",
    "resp = requests.get('https://api.nasa.gov/mars-photos/api/v1/rovers/curiosity/photos', params = query_param)\n",
    "print(resp.text)"
   ]
  },
  {
   "cell_type": "code",
   "execution_count": null,
   "metadata": {},
   "outputs": [],
   "source": [
    "#get only the url of the photos\n",
    "for i in resp.json()['photos']:\n",
    "    print(i['img_src'])"
   ]
  },
  {
   "cell_type": "code",
   "execution_count": null,
   "metadata": {},
   "outputs": [],
   "source": [
    "# YOUR TURN\n",
    "# with the previous code (to save jpg into file), loop on all the photos and save them in your computer\n",
    "# 15 minutes\n",
    "\n",
    "query_param = {\n",
    "    \"api_key\" : \"DEMO_KEY\",\n",
    "    \"earth_date\": \"2020-07-01\"\n",
    "}\n",
    "\n",
    "resp = requests.get('https://api.nasa.gov/mars-photos/api/v1/rovers/curiosity/photos', params = query_param)\n",
    "for index, data in enumerate(resp.json()['photos']):\n",
    "    resp2 = requests.get(data['img_src'])\n",
    "    with open(r\"D:\\KBTU\\2022-2023\\Python Course\\Course\\Lecture\\Lecture_4\\photo_curio_\"+ str(index) +\".jpg\", 'wb') as file:\n",
    "        file.write(resp2.content)"
   ]
  },
  {
   "cell_type": "code",
   "execution_count": null,
   "metadata": {},
   "outputs": [],
   "source": [
    "#Make a API request on polygon.io\n",
    "\n",
    "url = \"https://api.polygon.io/v2/aggs/ticker/TSLA/range/1/minute/2021-07-22/2021-09-22?sort=asc&limit=5000&apiKey=lFm05uiT4LHXMiZbEQzcTCmnwZpWAJXU\"\n",
    "resp = requests.get(url)\n",
    "print(resp.json())"
   ]
  },
  {
   "cell_type": "code",
   "execution_count": null,
   "metadata": {},
   "outputs": [],
   "source": []
  }
 ],
 "metadata": {
  "kernelspec": {
   "display_name": "Python 3.10.4 64-bit",
   "language": "python",
   "name": "python3"
  },
  "language_info": {
   "codemirror_mode": {
    "name": "ipython",
    "version": 3
   },
   "file_extension": ".py",
   "mimetype": "text/x-python",
   "name": "python",
   "nbconvert_exporter": "python",
   "pygments_lexer": "ipython3",
   "version": "3.10.4"
  },
  "vscode": {
   "interpreter": {
    "hash": "aee8b7b246df8f9039afb4144a1f6fd8d2ca17a180786b69acc140d282b71a49"
   }
  }
 },
 "nbformat": 4,
 "nbformat_minor": 4
}
